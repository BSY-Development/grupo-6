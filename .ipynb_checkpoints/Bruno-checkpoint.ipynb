{
 "cells": [
  {
   "cell_type": "code",
   "execution_count": 2,
   "id": "b8ada0f7",
   "metadata": {
    "ExecuteTime": {
     "end_time": "2022-07-07T18:45:28.194548Z",
     "start_time": "2022-07-07T18:45:27.616798Z"
    }
   },
   "outputs": [],
   "source": [
    "import pandas as pd\n",
    "import numpy as np"
   ]
  },
  {
   "cell_type": "code",
   "execution_count": 6,
   "id": "4e6ac4a2",
   "metadata": {
    "ExecuteTime": {
     "end_time": "2022-07-07T18:46:42.957966Z",
     "start_time": "2022-07-07T18:46:42.914766Z"
    }
   },
   "outputs": [],
   "source": [
    "car_crashes = pd.read_csv('Dataset/car_crashes.csv')"
   ]
  },
  {
   "cell_type": "code",
   "execution_count": 4,
   "id": "a6d0b296",
   "metadata": {
    "ExecuteTime": {
     "end_time": "2022-06-30T19:57:46.798568Z",
     "start_time": "2022-06-30T19:57:46.752128Z"
    }
   },
   "outputs": [
    {
     "data": {
      "text/html": [
       "<div>\n",
       "<style scoped>\n",
       "    .dataframe tbody tr th:only-of-type {\n",
       "        vertical-align: middle;\n",
       "    }\n",
       "\n",
       "    .dataframe tbody tr th {\n",
       "        vertical-align: top;\n",
       "    }\n",
       "\n",
       "    .dataframe thead th {\n",
       "        text-align: right;\n",
       "    }\n",
       "</style>\n",
       "<table border=\"1\" class=\"dataframe\">\n",
       "  <thead>\n",
       "    <tr style=\"text-align: right;\">\n",
       "      <th></th>\n",
       "      <th>dvcat</th>\n",
       "      <th>weight</th>\n",
       "      <th>dead</th>\n",
       "      <th>airbag</th>\n",
       "      <th>seatbelt</th>\n",
       "      <th>frontal</th>\n",
       "      <th>sex</th>\n",
       "      <th>ageOFocc</th>\n",
       "      <th>yearacc</th>\n",
       "      <th>yearVeh</th>\n",
       "      <th>abcat</th>\n",
       "      <th>occRole</th>\n",
       "      <th>deploy</th>\n",
       "      <th>caseid</th>\n",
       "    </tr>\n",
       "  </thead>\n",
       "  <tbody>\n",
       "    <tr>\n",
       "      <th>0</th>\n",
       "      <td>40-54</td>\n",
       "      <td>18.895</td>\n",
       "      <td>alive</td>\n",
       "      <td>airbag</td>\n",
       "      <td>belted</td>\n",
       "      <td>0</td>\n",
       "      <td>m</td>\n",
       "      <td>25</td>\n",
       "      <td>2002</td>\n",
       "      <td>2000.0</td>\n",
       "      <td>deploy</td>\n",
       "      <td>pass</td>\n",
       "      <td>1</td>\n",
       "      <td>81:99:1</td>\n",
       "    </tr>\n",
       "    <tr>\n",
       "      <th>1</th>\n",
       "      <td>25-39</td>\n",
       "      <td>266.532</td>\n",
       "      <td>alive</td>\n",
       "      <td>none</td>\n",
       "      <td>none</td>\n",
       "      <td>1</td>\n",
       "      <td>f</td>\n",
       "      <td>28</td>\n",
       "      <td>2001</td>\n",
       "      <td>1991.0</td>\n",
       "      <td>unavail</td>\n",
       "      <td>driver</td>\n",
       "      <td>0</td>\n",
       "      <td>76:12:2</td>\n",
       "    </tr>\n",
       "    <tr>\n",
       "      <th>2</th>\n",
       "      <td>25-39</td>\n",
       "      <td>51.810</td>\n",
       "      <td>alive</td>\n",
       "      <td>airbag</td>\n",
       "      <td>belted</td>\n",
       "      <td>1</td>\n",
       "      <td>f</td>\n",
       "      <td>36</td>\n",
       "      <td>1999</td>\n",
       "      <td>1994.0</td>\n",
       "      <td>deploy</td>\n",
       "      <td>driver</td>\n",
       "      <td>1</td>\n",
       "      <td>78:53:2</td>\n",
       "    </tr>\n",
       "    <tr>\n",
       "      <th>3</th>\n",
       "      <td>10-24</td>\n",
       "      <td>1567.626</td>\n",
       "      <td>alive</td>\n",
       "      <td>airbag</td>\n",
       "      <td>belted</td>\n",
       "      <td>0</td>\n",
       "      <td>f</td>\n",
       "      <td>24</td>\n",
       "      <td>2002</td>\n",
       "      <td>1994.0</td>\n",
       "      <td>nodeploy</td>\n",
       "      <td>driver</td>\n",
       "      <td>0</td>\n",
       "      <td>11:47:1</td>\n",
       "    </tr>\n",
       "    <tr>\n",
       "      <th>4</th>\n",
       "      <td>25-39</td>\n",
       "      <td>31.342</td>\n",
       "      <td>alive</td>\n",
       "      <td>none</td>\n",
       "      <td>none</td>\n",
       "      <td>1</td>\n",
       "      <td>f</td>\n",
       "      <td>46</td>\n",
       "      <td>1997</td>\n",
       "      <td>1990.0</td>\n",
       "      <td>unavail</td>\n",
       "      <td>pass</td>\n",
       "      <td>0</td>\n",
       "      <td>12:87:2</td>\n",
       "    </tr>\n",
       "  </tbody>\n",
       "</table>\n",
       "</div>"
      ],
      "text/plain": [
       "   dvcat    weight   dead  airbag seatbelt  frontal sex  ageOFocc  yearacc  \\\n",
       "0  40-54    18.895  alive  airbag   belted        0   m        25     2002   \n",
       "1  25-39   266.532  alive    none     none        1   f        28     2001   \n",
       "2  25-39    51.810  alive  airbag   belted        1   f        36     1999   \n",
       "3  10-24  1567.626  alive  airbag   belted        0   f        24     2002   \n",
       "4  25-39    31.342  alive    none     none        1   f        46     1997   \n",
       "\n",
       "   yearVeh     abcat occRole  deploy   caseid  \n",
       "0   2000.0    deploy    pass       1  81:99:1  \n",
       "1   1991.0   unavail  driver       0  76:12:2  \n",
       "2   1994.0    deploy  driver       1  78:53:2  \n",
       "3   1994.0  nodeploy  driver       0  11:47:1  \n",
       "4   1990.0   unavail    pass       0  12:87:2  "
      ]
     },
     "execution_count": 4,
     "metadata": {},
     "output_type": "execute_result"
    }
   ],
   "source": [
    "car_crashes.head()"
   ]
  },
  {
   "cell_type": "code",
   "execution_count": 7,
   "id": "732b2ae2",
   "metadata": {
    "ExecuteTime": {
     "end_time": "2022-07-07T18:46:47.243115Z",
     "start_time": "2022-07-07T18:46:45.822782Z"
    }
   },
   "outputs": [],
   "source": [
    "import seaborn as sns\n",
    "import matplotlib.pyplot as plt"
   ]
  },
  {
   "cell_type": "code",
   "execution_count": 13,
   "id": "bfa7cfc0",
   "metadata": {
    "ExecuteTime": {
     "end_time": "2022-06-30T20:24:42.216550Z",
     "start_time": "2022-06-30T20:24:41.954103Z"
    },
    "scrolled": false
   },
   "outputs": [
    {
     "data": {
      "image/png": "[encoded data removed]",
      "text/plain": [
       "<Figure size 1152x576 with 1 Axes>"
      ]
     },
     "metadata": {
      "needs_background": "light"
     },
     "output_type": "display_data"
    }
   ],
   "source": [
    "plt.figure(figsize = (16, 8)) ## Tamanho da figura em polegadas\n",
    "\n",
    "# Gráfico de dispersão\n",
    "sns.scatterplot(data = car_crashes, x='ageOFocc', y='dvcat')\n",
    "\n",
    "# Coloca o titulo\n",
    "plt.title('Idade pela Velocidade', fontsize = 25)\n",
    "\n",
    "# Titulo para eixo X\n",
    "plt.xlabel('Idade', fontsize=15)\n",
    "\n",
    "# Titulo para eixo Y\n",
    "plt.ylabel('Velocidade', fontsize=15)\n",
    "\n",
    "# Tamanho da fonte da grade X\n",
    "plt.xticks(fontsize = 12)\n",
    "\n",
    "# Tamanho da fonte da grade Y\n",
    "plt.yticks(fontsize = 12)\n",
    "\n",
    "# Colocando Grid no Gráfico\n",
    "plt.grid()\n",
    "\n",
    "# Mostra o nosso Gráfico\n",
    "plt.show()"
   ]
  },
  {
   "cell_type": "code",
   "execution_count": 18,
   "id": "957479a4",
   "metadata": {
    "ExecuteTime": {
     "end_time": "2022-06-30T20:51:09.768231Z",
     "start_time": "2022-06-30T20:51:09.747244Z"
    }
   },
   "outputs": [
    {
     "data": {
      "text/html": [
       "<div>\n",
       "<style scoped>\n",
       "    .dataframe tbody tr th:only-of-type {\n",
       "        vertical-align: middle;\n",
       "    }\n",
       "\n",
       "    .dataframe tbody tr th {\n",
       "        vertical-align: top;\n",
       "    }\n",
       "\n",
       "    .dataframe thead th {\n",
       "        text-align: right;\n",
       "    }\n",
       "</style>\n",
       "<table border=\"1\" class=\"dataframe\">\n",
       "  <thead>\n",
       "    <tr style=\"text-align: right;\">\n",
       "      <th></th>\n",
       "      <th>mean</th>\n",
       "    </tr>\n",
       "    <tr>\n",
       "      <th>dvcat</th>\n",
       "      <th></th>\n",
       "    </tr>\n",
       "  </thead>\n",
       "  <tbody>\n",
       "    <tr>\n",
       "      <th>1-9km/h</th>\n",
       "      <td>36.705607</td>\n",
       "    </tr>\n",
       "    <tr>\n",
       "      <th>10-24</th>\n",
       "      <td>37.941708</td>\n",
       "    </tr>\n",
       "    <tr>\n",
       "      <th>25-39</th>\n",
       "      <td>37.236697</td>\n",
       "    </tr>\n",
       "    <tr>\n",
       "      <th>40-54</th>\n",
       "      <td>35.387512</td>\n",
       "    </tr>\n",
       "    <tr>\n",
       "      <th>55+</th>\n",
       "      <td>34.528942</td>\n",
       "    </tr>\n",
       "  </tbody>\n",
       "</table>\n",
       "</div>"
      ],
      "text/plain": [
       "              mean\n",
       "dvcat             \n",
       "1-9km/h  36.705607\n",
       "10-24    37.941708\n",
       "25-39    37.236697\n",
       "40-54    35.387512\n",
       "55+      34.528942"
      ]
     },
     "execution_count": 18,
     "metadata": {},
     "output_type": "execute_result"
    }
   ],
   "source": [
    "car_crashes.groupby(['dvcat'])['ageOFocc'].agg([\"mean\"])"
   ]
  },
  {
   "cell_type": "code",
   "execution_count": 15,
   "id": "30eee810",
   "metadata": {
    "ExecuteTime": {
     "end_time": "2022-06-30T20:27:59.686067Z",
     "start_time": "2022-06-30T20:27:59.551959Z"
    }
   },
   "outputs": [
    {
     "data": {
      "image/png": "[encoded data removed]",
      "text/plain": [
       "<Figure size 1152x576 with 1 Axes>"
      ]
     },
     "metadata": {
      "needs_background": "light"
     },
     "output_type": "display_data"
    }
   ],
   "source": [
    "plt.figure(figsize = (16, 8)) ## Tamanho da figura em polegadas\n",
    "\n",
    "# Gráfico de dispersão\n",
    "sns.scatterplot(data = car_crashes, x='dvcat', y='dead')\n",
    "\n",
    "# Coloca o titulo\n",
    "plt.title('Velocidade vs Vida', fontsize = 25)\n",
    "\n",
    "# Titulo para eixo X\n",
    "plt.xlabel('Velocidade', fontsize=15)\n",
    "\n",
    "# Titulo para eixo Y\n",
    "plt.ylabel('Vivo', fontsize=15)\n",
    "\n",
    "# Tamanho da fonte da grade X\n",
    "plt.xticks(fontsize = 12)\n",
    "\n",
    "# Tamanho da fonte da grade Y\n",
    "plt.yticks(fontsize = 12)\n",
    "\n",
    "# Colocando Grid no Gráfico\n",
    "plt.grid()\n",
    "\n",
    "# Mostra o nosso Gráfico\n",
    "plt.show()"
   ]
  },
  {
   "cell_type": "code",
   "execution_count": 34,
   "id": "09231602",
   "metadata": {
    "ExecuteTime": {
     "end_time": "2022-06-30T21:14:59.412920Z",
     "start_time": "2022-06-30T21:14:59.408751Z"
    }
   },
   "outputs": [
    {
     "name": "stdout",
     "output_type": "stream",
     "text": [
      "alive    8249\n",
      "dead      403\n",
      "Name: dead, dtype: int64\n"
     ]
    }
   ],
   "source": [
    "# car_crashes.groupby('dvcat').dead.sum().to_frame().loc[lambda x: x == 'alive']\n",
    "print(data_x)"
   ]
  },
  {
   "cell_type": "code",
   "execution_count": 32,
   "id": "00010a9e",
   "metadata": {
    "ExecuteTime": {
     "end_time": "2022-06-30T21:14:47.333063Z",
     "start_time": "2022-06-30T21:14:47.322019Z"
    }
   },
   "outputs": [],
   "source": [
    "# car_crashes.groupby(['dead'])['dead'].agg([\"count\"])\n",
    "data_x = car_crashes.dead.value_counts()"
   ]
  },
  {
   "cell_type": "code",
   "execution_count": 63,
   "id": "7ee520fb",
   "metadata": {
    "ExecuteTime": {
     "end_time": "2022-07-01T01:21:14.891035Z",
     "start_time": "2022-07-01T01:21:14.854492Z"
    }
   },
   "outputs": [
    {
     "data": {
      "text/html": [
       "<div>\n",
       "<style scoped>\n",
       "    .dataframe tbody tr th:only-of-type {\n",
       "        vertical-align: middle;\n",
       "    }\n",
       "\n",
       "    .dataframe tbody tr th {\n",
       "        vertical-align: top;\n",
       "    }\n",
       "\n",
       "    .dataframe thead th {\n",
       "        text-align: right;\n",
       "    }\n",
       "</style>\n",
       "<table border=\"1\" class=\"dataframe\">\n",
       "  <thead>\n",
       "    <tr style=\"text-align: right;\">\n",
       "      <th>dead</th>\n",
       "      <th>alive</th>\n",
       "      <th>dead</th>\n",
       "    </tr>\n",
       "    <tr>\n",
       "      <th>dvcat</th>\n",
       "      <th></th>\n",
       "      <th></th>\n",
       "    </tr>\n",
       "  </thead>\n",
       "  <tbody>\n",
       "    <tr>\n",
       "      <th>1-9km/h</th>\n",
       "      <td>213</td>\n",
       "      <td>1</td>\n",
       "    </tr>\n",
       "    <tr>\n",
       "      <th>10-24</th>\n",
       "      <td>4166</td>\n",
       "      <td>37</td>\n",
       "    </tr>\n",
       "    <tr>\n",
       "      <th>25-39</th>\n",
       "      <td>2608</td>\n",
       "      <td>117</td>\n",
       "    </tr>\n",
       "    <tr>\n",
       "      <th>40-54</th>\n",
       "      <td>891</td>\n",
       "      <td>118</td>\n",
       "    </tr>\n",
       "    <tr>\n",
       "      <th>55+</th>\n",
       "      <td>371</td>\n",
       "      <td>130</td>\n",
       "    </tr>\n",
       "  </tbody>\n",
       "</table>\n",
       "</div>"
      ],
      "text/plain": [
       "dead     alive  dead\n",
       "dvcat               \n",
       "1-9km/h    213     1\n",
       "10-24     4166    37\n",
       "25-39     2608   117\n",
       "40-54      891   118\n",
       "55+        371   130"
      ]
     },
     "execution_count": 63,
     "metadata": {},
     "output_type": "execute_result"
    }
   ],
   "source": [
    "data_treated = pd.pivot_table(car_crashes, values=\"weight\", index='dvcat', columns='dead', aggfunc=\"count\")\n",
    "data_treated"
   ]
  },
  {
   "cell_type": "code",
   "execution_count": 8,
   "id": "40c23da2",
   "metadata": {
    "ExecuteTime": {
     "end_time": "2022-07-07T18:46:50.970080Z",
     "start_time": "2022-07-07T18:46:50.681499Z"
    }
   },
   "outputs": [
    {
     "data": {
      "image/png": "[encoded data removed]",
      "text/plain": [
       "<Figure size 1152x576 with 1 Axes>"
      ]
     },
     "metadata": {
      "needs_background": "light"
     },
     "output_type": "display_data"
    }
   ],
   "source": [
    "plt.figure(figsize = (16, 8)) ## Tamanho da figura em polegadas\n",
    "\n",
    "# Gráfico de dispersão\n",
    "sns.countplot(data=car_crashes, x='dvcat', hue='dead')\n",
    "\n",
    "# Coloca o titulo\n",
    "plt.title('Velocidade vs Sobrevivência', fontsize = 25)\n",
    "\n",
    "# Titulo para eixo X\n",
    "plt.xlabel('Velocidade', fontsize=15)\n",
    "\n",
    "# Titulo para eixo Y\n",
    "plt.ylabel('Sobrevivência', fontsize=15)\n",
    "\n",
    "# Tamanho da fonte da grade X\n",
    "plt.xticks(fontsize = 12)\n",
    "\n",
    "# Tamanho da fonte da grade Y\n",
    "plt.yticks(fontsize = 12)\n",
    "\n",
    "# Colocando Grid no Gráfico\n",
    "plt.grid()\n",
    "\n",
    "# Mostra o nosso Gráfico\n",
    "plt.show()"
   ]
  }
 ],
 "metadata": {
  "kernelspec": {
   "display_name": "Python 3 (ipykernel)",
   "language": "python",
   "name": "python3"
  },
  "language_info": {
   "codemirror_mode": {
    "name": "ipython",
    "version": 3
   },
   "file_extension": ".py",
   "mimetype": "text/x-python",
   "name": "python",
   "nbconvert_exporter": "python",
   "pygments_lexer": "ipython3",
   "version": "3.8.10"
  }
 },
 "nbformat": 4,
 "nbformat_minor": 5
}
