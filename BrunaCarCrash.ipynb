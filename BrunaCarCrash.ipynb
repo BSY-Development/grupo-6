{
 "cells": [
  {
   "cell_type": "code",
   "execution_count": 1,
   "id": "e123baa5",
   "metadata": {},
   "outputs": [],
   "source": [
    "import pandas as pd\n",
    "import numpy as np\n",
    "import seaborn as sns\n",
    "import matplotlib.pyplot as plt"
   ]
  },
  {
   "cell_type": "code",
   "execution_count": 3,
   "id": "19564f95",
   "metadata": {},
   "outputs": [
    {
     "data": {
      "text/html": [
       "<div>\n",
       "<style scoped>\n",
       "    .dataframe tbody tr th:only-of-type {\n",
       "        vertical-align: middle;\n",
       "    }\n",
       "\n",
       "    .dataframe tbody tr th {\n",
       "        vertical-align: top;\n",
       "    }\n",
       "\n",
       "    .dataframe thead th {\n",
       "        text-align: right;\n",
       "    }\n",
       "</style>\n",
       "<table border=\"1\" class=\"dataframe\">\n",
       "  <thead>\n",
       "    <tr style=\"text-align: right;\">\n",
       "      <th></th>\n",
       "      <th>dvcat</th>\n",
       "      <th>weight</th>\n",
       "      <th>dead</th>\n",
       "      <th>airbag</th>\n",
       "      <th>seatbelt</th>\n",
       "      <th>frontal</th>\n",
       "      <th>sex</th>\n",
       "      <th>ageOFocc</th>\n",
       "      <th>yearacc</th>\n",
       "      <th>yearVeh</th>\n",
       "      <th>abcat</th>\n",
       "      <th>occRole</th>\n",
       "      <th>deploy</th>\n",
       "      <th>caseid</th>\n",
       "      <th>injSeverity</th>\n",
       "    </tr>\n",
       "  </thead>\n",
       "  <tbody>\n",
       "    <tr>\n",
       "      <th>0</th>\n",
       "      <td>55+</td>\n",
       "      <td>53.342</td>\n",
       "      <td>dead</td>\n",
       "      <td>airbag</td>\n",
       "      <td>belted</td>\n",
       "      <td>1</td>\n",
       "      <td>f</td>\n",
       "      <td>48</td>\n",
       "      <td>2002</td>\n",
       "      <td>1997</td>\n",
       "      <td>deploy</td>\n",
       "      <td>driver</td>\n",
       "      <td>1</td>\n",
       "      <td>45:150:1</td>\n",
       "      <td>3</td>\n",
       "    </tr>\n",
       "    <tr>\n",
       "      <th>1</th>\n",
       "      <td>25-39</td>\n",
       "      <td>154.960</td>\n",
       "      <td>alive</td>\n",
       "      <td>none</td>\n",
       "      <td>none</td>\n",
       "      <td>1</td>\n",
       "      <td>m</td>\n",
       "      <td>26</td>\n",
       "      <td>2001</td>\n",
       "      <td>1968</td>\n",
       "      <td>unavail</td>\n",
       "      <td>driver</td>\n",
       "      <td>0</td>\n",
       "      <td>76:40:1</td>\n",
       "      <td>3</td>\n",
       "    </tr>\n",
       "    <tr>\n",
       "      <th>2</th>\n",
       "      <td>55+</td>\n",
       "      <td>38.994</td>\n",
       "      <td>alive</td>\n",
       "      <td>none</td>\n",
       "      <td>none</td>\n",
       "      <td>1</td>\n",
       "      <td>f</td>\n",
       "      <td>51</td>\n",
       "      <td>2002</td>\n",
       "      <td>1994</td>\n",
       "      <td>unavail</td>\n",
       "      <td>driver</td>\n",
       "      <td>0</td>\n",
       "      <td>11:184:1</td>\n",
       "      <td>3</td>\n",
       "    </tr>\n",
       "    <tr>\n",
       "      <th>3</th>\n",
       "      <td>25-39</td>\n",
       "      <td>168.568</td>\n",
       "      <td>alive</td>\n",
       "      <td>airbag</td>\n",
       "      <td>belted</td>\n",
       "      <td>1</td>\n",
       "      <td>m</td>\n",
       "      <td>27</td>\n",
       "      <td>1998</td>\n",
       "      <td>1996</td>\n",
       "      <td>deploy</td>\n",
       "      <td>pass</td>\n",
       "      <td>1</td>\n",
       "      <td>9:17:1</td>\n",
       "      <td>3</td>\n",
       "    </tr>\n",
       "    <tr>\n",
       "      <th>4</th>\n",
       "      <td>10-24</td>\n",
       "      <td>27.751</td>\n",
       "      <td>alive</td>\n",
       "      <td>airbag</td>\n",
       "      <td>belted</td>\n",
       "      <td>0</td>\n",
       "      <td>m</td>\n",
       "      <td>26</td>\n",
       "      <td>2002</td>\n",
       "      <td>1997</td>\n",
       "      <td>nodeploy</td>\n",
       "      <td>pass</td>\n",
       "      <td>0</td>\n",
       "      <td>2:2:2</td>\n",
       "      <td>0</td>\n",
       "    </tr>\n",
       "  </tbody>\n",
       "</table>\n",
       "</div>"
      ],
      "text/plain": [
       "   dvcat   weight   dead  airbag seatbelt  frontal sex  ageOFocc  yearacc  \\\n",
       "0    55+   53.342   dead  airbag   belted        1   f        48     2002   \n",
       "1  25-39  154.960  alive    none     none        1   m        26     2001   \n",
       "2    55+   38.994  alive    none     none        1   f        51     2002   \n",
       "3  25-39  168.568  alive  airbag   belted        1   m        27     1998   \n",
       "4  10-24   27.751  alive  airbag   belted        0   m        26     2002   \n",
       "\n",
       "   yearVeh     abcat occRole  deploy    caseid  injSeverity  \n",
       "0     1997    deploy  driver       1  45:150:1            3  \n",
       "1     1968   unavail  driver       0   76:40:1            3  \n",
       "2     1994   unavail  driver       0  11:184:1            3  \n",
       "3     1996    deploy    pass       1    9:17:1            3  \n",
       "4     1997  nodeploy    pass       0     2:2:2            0  "
      ]
     },
     "execution_count": 3,
     "metadata": {},
     "output_type": "execute_result"
    }
   ],
   "source": [
    "# importando a base de dados \n",
    "carcrash = pd.read_csv('C:/Users/bruna.cremonini/Downloads/train-new.csv')\n",
    "carcrash.head()"
   ]
  },
  {
   "cell_type": "code",
   "execution_count": 4,
   "id": "df26c815",
   "metadata": {},
   "outputs": [
    {
     "data": {
      "text/plain": [
       "(17565, 15)"
      ]
     },
     "execution_count": 4,
     "metadata": {},
     "output_type": "execute_result"
    }
   ],
   "source": [
    "## _______ descrições gerais:\n",
    "\n",
    "# tamanho da base\n",
    "carcrash.shape"
   ]
  },
  {
   "cell_type": "code",
   "execution_count": 5,
   "id": "afa5574e",
   "metadata": {},
   "outputs": [
    {
     "data": {
      "text/html": [
       "<div>\n",
       "<style scoped>\n",
       "    .dataframe tbody tr th:only-of-type {\n",
       "        vertical-align: middle;\n",
       "    }\n",
       "\n",
       "    .dataframe tbody tr th {\n",
       "        vertical-align: top;\n",
       "    }\n",
       "\n",
       "    .dataframe thead th {\n",
       "        text-align: right;\n",
       "    }\n",
       "</style>\n",
       "<table border=\"1\" class=\"dataframe\">\n",
       "  <thead>\n",
       "    <tr style=\"text-align: right;\">\n",
       "      <th></th>\n",
       "      <th>weight</th>\n",
       "      <th>frontal</th>\n",
       "      <th>ageOFocc</th>\n",
       "      <th>yearacc</th>\n",
       "      <th>yearVeh</th>\n",
       "      <th>deploy</th>\n",
       "      <th>injSeverity</th>\n",
       "    </tr>\n",
       "  </thead>\n",
       "  <tbody>\n",
       "    <tr>\n",
       "      <th>count</th>\n",
       "      <td>17565.000000</td>\n",
       "      <td>17565.000000</td>\n",
       "      <td>17565.000000</td>\n",
       "      <td>17565.000000</td>\n",
       "      <td>17565.000000</td>\n",
       "      <td>17565.000000</td>\n",
       "      <td>17565.000000</td>\n",
       "    </tr>\n",
       "    <tr>\n",
       "      <th>mean</th>\n",
       "      <td>458.763017</td>\n",
       "      <td>0.643439</td>\n",
       "      <td>37.212411</td>\n",
       "      <td>1999.558497</td>\n",
       "      <td>1992.843894</td>\n",
       "      <td>0.340165</td>\n",
       "      <td>1.713066</td>\n",
       "    </tr>\n",
       "    <tr>\n",
       "      <th>std</th>\n",
       "      <td>1471.148421</td>\n",
       "      <td>0.478997</td>\n",
       "      <td>17.945232</td>\n",
       "      <td>1.702162</td>\n",
       "      <td>5.568838</td>\n",
       "      <td>0.473778</td>\n",
       "      <td>1.290565</td>\n",
       "    </tr>\n",
       "    <tr>\n",
       "      <th>min</th>\n",
       "      <td>0.000000</td>\n",
       "      <td>0.000000</td>\n",
       "      <td>16.000000</td>\n",
       "      <td>1997.000000</td>\n",
       "      <td>1953.000000</td>\n",
       "      <td>0.000000</td>\n",
       "      <td>0.000000</td>\n",
       "    </tr>\n",
       "    <tr>\n",
       "      <th>25%</th>\n",
       "      <td>32.264000</td>\n",
       "      <td>0.000000</td>\n",
       "      <td>22.000000</td>\n",
       "      <td>1998.000000</td>\n",
       "      <td>1989.000000</td>\n",
       "      <td>0.000000</td>\n",
       "      <td>1.000000</td>\n",
       "    </tr>\n",
       "    <tr>\n",
       "      <th>50%</th>\n",
       "      <td>86.986000</td>\n",
       "      <td>1.000000</td>\n",
       "      <td>33.000000</td>\n",
       "      <td>2000.000000</td>\n",
       "      <td>1994.000000</td>\n",
       "      <td>0.000000</td>\n",
       "      <td>2.000000</td>\n",
       "    </tr>\n",
       "    <tr>\n",
       "      <th>75%</th>\n",
       "      <td>357.283000</td>\n",
       "      <td>1.000000</td>\n",
       "      <td>48.000000</td>\n",
       "      <td>2001.000000</td>\n",
       "      <td>1997.000000</td>\n",
       "      <td>1.000000</td>\n",
       "      <td>3.000000</td>\n",
       "    </tr>\n",
       "    <tr>\n",
       "      <th>max</th>\n",
       "      <td>57871.595000</td>\n",
       "      <td>1.000000</td>\n",
       "      <td>97.000000</td>\n",
       "      <td>2002.000000</td>\n",
       "      <td>2003.000000</td>\n",
       "      <td>1.000000</td>\n",
       "      <td>6.000000</td>\n",
       "    </tr>\n",
       "  </tbody>\n",
       "</table>\n",
       "</div>"
      ],
      "text/plain": [
       "             weight       frontal      ageOFocc       yearacc       yearVeh  \\\n",
       "count  17565.000000  17565.000000  17565.000000  17565.000000  17565.000000   \n",
       "mean     458.763017      0.643439     37.212411   1999.558497   1992.843894   \n",
       "std     1471.148421      0.478997     17.945232      1.702162      5.568838   \n",
       "min        0.000000      0.000000     16.000000   1997.000000   1953.000000   \n",
       "25%       32.264000      0.000000     22.000000   1998.000000   1989.000000   \n",
       "50%       86.986000      1.000000     33.000000   2000.000000   1994.000000   \n",
       "75%      357.283000      1.000000     48.000000   2001.000000   1997.000000   \n",
       "max    57871.595000      1.000000     97.000000   2002.000000   2003.000000   \n",
       "\n",
       "             deploy   injSeverity  \n",
       "count  17565.000000  17565.000000  \n",
       "mean       0.340165      1.713066  \n",
       "std        0.473778      1.290565  \n",
       "min        0.000000      0.000000  \n",
       "25%        0.000000      1.000000  \n",
       "50%        0.000000      2.000000  \n",
       "75%        1.000000      3.000000  \n",
       "max        1.000000      6.000000  "
      ]
     },
     "execution_count": 5,
     "metadata": {},
     "output_type": "execute_result"
    }
   ],
   "source": [
    "# descrições numéricas\n",
    "carcrash.describe()"
   ]
  },
  {
   "cell_type": "code",
   "execution_count": 6,
   "id": "82b672b4",
   "metadata": {},
   "outputs": [
    {
     "data": {
      "text/plain": [
       "dvcat           object\n",
       "weight         float64\n",
       "dead            object\n",
       "airbag          object\n",
       "seatbelt        object\n",
       "frontal          int64\n",
       "sex             object\n",
       "ageOFocc         int64\n",
       "yearacc          int64\n",
       "yearVeh          int64\n",
       "abcat           object\n",
       "occRole         object\n",
       "deploy           int64\n",
       "caseid          object\n",
       "injSeverity      int64\n",
       "dtype: object"
      ]
     },
     "execution_count": 6,
     "metadata": {},
     "output_type": "execute_result"
    }
   ],
   "source": [
    "# tipo do dado\n",
    "carcrash.dtypes"
   ]
  },
  {
   "cell_type": "code",
   "execution_count": 7,
   "id": "60025e64",
   "metadata": {},
   "outputs": [
    {
     "data": {
      "text/plain": [
       "dvcat          0\n",
       "weight         0\n",
       "dead           0\n",
       "airbag         0\n",
       "seatbelt       0\n",
       "frontal        0\n",
       "sex            0\n",
       "ageOFocc       0\n",
       "yearacc        0\n",
       "yearVeh        0\n",
       "abcat          0\n",
       "occRole        0\n",
       "deploy         0\n",
       "caseid         0\n",
       "injSeverity    0\n",
       "dtype: int64"
      ]
     },
     "execution_count": 7,
     "metadata": {},
     "output_type": "execute_result"
    }
   ],
   "source": [
    "## _______ verificando e entendendo os dados:\n",
    "# se há dados vazios\n",
    "carcrash.isnull().sum()"
   ]
  },
  {
   "cell_type": "code",
   "execution_count": 8,
   "id": "a5137462",
   "metadata": {},
   "outputs": [
    {
     "data": {
      "text/html": [
       "<div>\n",
       "<style scoped>\n",
       "    .dataframe tbody tr th:only-of-type {\n",
       "        vertical-align: middle;\n",
       "    }\n",
       "\n",
       "    .dataframe tbody tr th {\n",
       "        vertical-align: top;\n",
       "    }\n",
       "\n",
       "    .dataframe thead th {\n",
       "        text-align: right;\n",
       "    }\n",
       "</style>\n",
       "<table border=\"1\" class=\"dataframe\">\n",
       "  <thead>\n",
       "    <tr style=\"text-align: right;\">\n",
       "      <th></th>\n",
       "      <th>dvcat</th>\n",
       "      <th>weight</th>\n",
       "      <th>dead</th>\n",
       "      <th>airbag</th>\n",
       "      <th>seatbelt</th>\n",
       "      <th>frontal</th>\n",
       "      <th>sex</th>\n",
       "      <th>ageOFocc</th>\n",
       "      <th>yearacc</th>\n",
       "      <th>yearVeh</th>\n",
       "      <th>abcat</th>\n",
       "      <th>occRole</th>\n",
       "      <th>deploy</th>\n",
       "      <th>caseid</th>\n",
       "      <th>injSeverity</th>\n",
       "    </tr>\n",
       "  </thead>\n",
       "  <tbody>\n",
       "  </tbody>\n",
       "</table>\n",
       "</div>"
      ],
      "text/plain": [
       "Empty DataFrame\n",
       "Columns: [dvcat, weight, dead, airbag, seatbelt, frontal, sex, ageOFocc, yearacc, yearVeh, abcat, occRole, deploy, caseid, injSeverity]\n",
       "Index: []"
      ]
     },
     "execution_count": 8,
     "metadata": {},
     "output_type": "execute_result"
    }
   ],
   "source": [
    "# se temos dados duplicados:\n",
    "carcrash[carcrash.duplicated()]"
   ]
  },
  {
   "cell_type": "code",
   "execution_count": 9,
   "id": "5c911926",
   "metadata": {},
   "outputs": [
    {
     "data": {
      "text/plain": [
       "dvcat             5\n",
       "weight         8406\n",
       "dead              2\n",
       "airbag            2\n",
       "seatbelt          2\n",
       "frontal           2\n",
       "sex               2\n",
       "ageOFocc         82\n",
       "yearacc           6\n",
       "yearVeh          44\n",
       "abcat             3\n",
       "occRole           2\n",
       "deploy            2\n",
       "caseid         8236\n",
       "injSeverity       7\n",
       "dtype: int64"
      ]
     },
     "execution_count": 9,
     "metadata": {},
     "output_type": "execute_result"
    }
   ],
   "source": [
    "# buscando algum tipo de erro:\n",
    "carcrash.nunique() # temos registro de 8236 batidas de carros."
   ]
  },
  {
   "cell_type": "code",
   "execution_count": 11,
   "id": "4a785124",
   "metadata": {},
   "outputs": [
    {
     "data": {
      "text/plain": [
       "8"
      ]
     },
     "execution_count": 11,
     "metadata": {},
     "output_type": "execute_result"
    }
   ],
   "source": [
    "carcrash['caseid'].value_counts().max() # temos até 8 pessoas envolvidas em um acidente"
   ]
  },
  {
   "cell_type": "code",
   "execution_count": 21,
   "id": "d8b348c5",
   "metadata": {},
   "outputs": [
    {
     "data": {
      "text/plain": [
       "6"
      ]
     },
     "execution_count": 21,
     "metadata": {},
     "output_type": "execute_result"
    }
   ],
   "source": [
    "carcrash[carcrash['occRole']=='driver']['caseid'].value_counts().max() # temos até 6 carros envolvidos em um acidente"
   ]
  },
  {
   "cell_type": "code",
   "execution_count": 76,
   "id": "619565c2",
   "metadata": {},
   "outputs": [
    {
     "data": {
      "text/html": [
       "<div>\n",
       "<style scoped>\n",
       "    .dataframe tbody tr th:only-of-type {\n",
       "        vertical-align: middle;\n",
       "    }\n",
       "\n",
       "    .dataframe tbody tr th {\n",
       "        vertical-align: top;\n",
       "    }\n",
       "\n",
       "    .dataframe thead th {\n",
       "        text-align: right;\n",
       "    }\n",
       "</style>\n",
       "<table border=\"1\" class=\"dataframe\">\n",
       "  <thead>\n",
       "    <tr style=\"text-align: right;\">\n",
       "      <th></th>\n",
       "      <th>dvcat</th>\n",
       "      <th>weight</th>\n",
       "      <th>dead</th>\n",
       "      <th>airbag</th>\n",
       "      <th>seatbelt</th>\n",
       "      <th>frontal</th>\n",
       "      <th>sex</th>\n",
       "      <th>ageOFocc</th>\n",
       "      <th>yearacc</th>\n",
       "      <th>yearVeh</th>\n",
       "      <th>abcat</th>\n",
       "      <th>occRole</th>\n",
       "      <th>deploy</th>\n",
       "      <th>caseid</th>\n",
       "      <th>injSeverity</th>\n",
       "      <th>ageGroup</th>\n",
       "    </tr>\n",
       "  </thead>\n",
       "  <tbody>\n",
       "    <tr>\n",
       "      <th>0</th>\n",
       "      <td>55+</td>\n",
       "      <td>53.342</td>\n",
       "      <td>dead</td>\n",
       "      <td>airbag</td>\n",
       "      <td>belted</td>\n",
       "      <td>1</td>\n",
       "      <td>f</td>\n",
       "      <td>48</td>\n",
       "      <td>2002</td>\n",
       "      <td>1997</td>\n",
       "      <td>deploy</td>\n",
       "      <td>driver</td>\n",
       "      <td>1</td>\n",
       "      <td>45:150:1</td>\n",
       "      <td>3</td>\n",
       "      <td>(45,55]</td>\n",
       "    </tr>\n",
       "    <tr>\n",
       "      <th>1</th>\n",
       "      <td>25-39</td>\n",
       "      <td>154.960</td>\n",
       "      <td>alive</td>\n",
       "      <td>none</td>\n",
       "      <td>none</td>\n",
       "      <td>1</td>\n",
       "      <td>m</td>\n",
       "      <td>26</td>\n",
       "      <td>2001</td>\n",
       "      <td>1968</td>\n",
       "      <td>unavail</td>\n",
       "      <td>driver</td>\n",
       "      <td>0</td>\n",
       "      <td>76:40:1</td>\n",
       "      <td>3</td>\n",
       "      <td>(25-35]</td>\n",
       "    </tr>\n",
       "    <tr>\n",
       "      <th>2</th>\n",
       "      <td>55+</td>\n",
       "      <td>38.994</td>\n",
       "      <td>alive</td>\n",
       "      <td>none</td>\n",
       "      <td>none</td>\n",
       "      <td>1</td>\n",
       "      <td>f</td>\n",
       "      <td>51</td>\n",
       "      <td>2002</td>\n",
       "      <td>1994</td>\n",
       "      <td>unavail</td>\n",
       "      <td>driver</td>\n",
       "      <td>0</td>\n",
       "      <td>11:184:1</td>\n",
       "      <td>3</td>\n",
       "      <td>(45,55]</td>\n",
       "    </tr>\n",
       "    <tr>\n",
       "      <th>3</th>\n",
       "      <td>25-39</td>\n",
       "      <td>168.568</td>\n",
       "      <td>alive</td>\n",
       "      <td>airbag</td>\n",
       "      <td>belted</td>\n",
       "      <td>1</td>\n",
       "      <td>m</td>\n",
       "      <td>27</td>\n",
       "      <td>1998</td>\n",
       "      <td>1996</td>\n",
       "      <td>deploy</td>\n",
       "      <td>pass</td>\n",
       "      <td>1</td>\n",
       "      <td>9:17:1</td>\n",
       "      <td>3</td>\n",
       "      <td>(25-35]</td>\n",
       "    </tr>\n",
       "    <tr>\n",
       "      <th>4</th>\n",
       "      <td>10-24</td>\n",
       "      <td>27.751</td>\n",
       "      <td>alive</td>\n",
       "      <td>airbag</td>\n",
       "      <td>belted</td>\n",
       "      <td>0</td>\n",
       "      <td>m</td>\n",
       "      <td>26</td>\n",
       "      <td>2002</td>\n",
       "      <td>1997</td>\n",
       "      <td>nodeploy</td>\n",
       "      <td>pass</td>\n",
       "      <td>0</td>\n",
       "      <td>2:2:2</td>\n",
       "      <td>0</td>\n",
       "      <td>(25-35]</td>\n",
       "    </tr>\n",
       "  </tbody>\n",
       "</table>\n",
       "</div>"
      ],
      "text/plain": [
       "   dvcat   weight   dead  airbag seatbelt  frontal sex  ageOFocc  yearacc  \\\n",
       "0    55+   53.342   dead  airbag   belted        1   f        48     2002   \n",
       "1  25-39  154.960  alive    none     none        1   m        26     2001   \n",
       "2    55+   38.994  alive    none     none        1   f        51     2002   \n",
       "3  25-39  168.568  alive  airbag   belted        1   m        27     1998   \n",
       "4  10-24   27.751  alive  airbag   belted        0   m        26     2002   \n",
       "\n",
       "   yearVeh     abcat occRole  deploy    caseid  injSeverity ageGroup  \n",
       "0     1997    deploy  driver       1  45:150:1            3  (45,55]  \n",
       "1     1968   unavail  driver       0   76:40:1            3  (25-35]  \n",
       "2     1994   unavail  driver       0  11:184:1            3  (45,55]  \n",
       "3     1996    deploy    pass       1    9:17:1            3  (25-35]  \n",
       "4     1997  nodeploy    pass       0     2:2:2            0  (25-35]  "
      ]
     },
     "execution_count": 76,
     "metadata": {},
     "output_type": "execute_result"
    }
   ],
   "source": [
    "carcrash['ageGroup']=pd.cut(carcrash['ageOFocc'], \n",
    "                            bins=[0,18,25,35,45,55,65,100], \n",
    "                            labels=['<=18','(18-25]','(25-35]','(35,45]','(45,55]','(55-65]','>65'])\n",
    "\n",
    "carcrash.head()"
   ]
  },
  {
   "cell_type": "raw",
   "id": "5036ee95",
   "metadata": {},
   "source": [
    "Hipótese: Mulheres dirigem melhor do que homens.\n",
    "\n",
    "Pelo dataset, não é possível saber quem causou o acidente.\n",
    "Por isso, serão usados outros recursos para fazer essa comparação."
   ]
  },
  {
   "cell_type": "code",
   "execution_count": 92,
   "id": "ecd1092d",
   "metadata": {},
   "outputs": [
    {
     "data": {
      "text/plain": [
       "m    0.558615\n",
       "f    0.441385\n",
       "Name: sex, dtype: float64"
      ]
     },
     "execution_count": 92,
     "metadata": {},
     "output_type": "execute_result"
    }
   ],
   "source": [
    "## _______ testando se motoristas mulheres morrem mais do que motoristas homens:\n",
    "\n",
    "# criando um dataset apenas de motoristas\n",
    "df_drivers1 = carcrash[carcrash['occRole']=='driver']\n",
    "\n",
    "# entendendo a distribução de sexo entre os motoristas\n",
    "df_drivers1['sex'].value_counts(normalize=True)"
   ]
  },
  {
   "cell_type": "code",
   "execution_count": 100,
   "id": "7e1d63ee",
   "metadata": {},
   "outputs": [
    {
     "data": {
      "image/png": "[encoded data removed]",
      "text/plain": [
       "<Figure size 432x216 with 2 Axes>"
      ]
     },
     "metadata": {
      "needs_background": "light"
     },
     "output_type": "display_data"
    }
   ],
   "source": [
    "# comparação entre mortos e sobreviventes:\n",
    "\n",
    "grid = sns.FacetGrid(df_drivers1, col='sex',hue='sex')\n",
    "grid.map(sns.histplot, 'dead', stat='percent')\n",
    "plt.show()"
   ]
  },
  {
   "cell_type": "code",
   "execution_count": 59,
   "id": "258c5bec",
   "metadata": {},
   "outputs": [
    {
     "data": {
      "text/plain": [
       "m    7710\n",
       "f    6092\n",
       "Name: sex, dtype: int64"
      ]
     },
     "execution_count": 59,
     "metadata": {},
     "output_type": "execute_result"
    }
   ],
   "source": [
    "# total de homens e mulheres entre os motoristas\n",
    "df_drivers1['sex'].value_counts()"
   ]
  },
  {
   "cell_type": "code",
   "execution_count": 93,
   "id": "0ab357bd",
   "metadata": {},
   "outputs": [
    {
     "data": {
      "text/plain": [
       "(sex  dead \n",
       " f    alive    98.383333\n",
       "      dead      3.150000\n",
       " Name: dead, dtype: float64,\n",
       " 92)"
      ]
     },
     "execution_count": 93,
     "metadata": {},
     "output_type": "execute_result"
    }
   ],
   "source": [
    "#distribuição de morte entre motoristas mulheres \n",
    "df_drivers1[df_drivers1['sex']=='f'].groupby([\"sex\",'dead'])['dead'].count()/60,92 "
   ]
  },
  {
   "cell_type": "code",
   "execution_count": 94,
   "id": "7a363693",
   "metadata": {},
   "outputs": [
    {
     "data": {
      "text/plain": [
       "(sex  dead \n",
       " m    alive    94.883117\n",
       "      dead      5.246753\n",
       " Name: dead, dtype: float64,\n",
       " 10)"
      ]
     },
     "execution_count": 94,
     "metadata": {},
     "output_type": "execute_result"
    }
   ],
   "source": [
    "#distribuição de morte entre motoristas homens\n",
    "df_drivers1[df_drivers1['sex']=='m'].groupby([\"sex\",'dead'])['dead'].count()/77,10"
   ]
  },
  {
   "cell_type": "raw",
   "id": "1cf46560",
   "metadata": {},
   "source": [
    "Motoristas mulheres morrem proporcionalmente menos do que motoristas homens."
   ]
  },
  {
   "cell_type": "code",
   "execution_count": 95,
   "id": "c6246160",
   "metadata": {},
   "outputs": [
    {
     "data": {
      "image/png": "[encoded data removed]",
      "text/plain": [
       "<Figure size 432x216 with 2 Axes>"
      ]
     },
     "metadata": {
      "needs_background": "light"
     },
     "output_type": "display_data"
    }
   ],
   "source": [
    "# comportamento em faixas etárias\n",
    "\n",
    "grid = sns.FacetGrid(df_drivers1, col='sex',hue='sex')\n",
    "grid.map(sns.histplot, 'ageGroup', stat='percent')\n",
    "plt.show()"
   ]
  },
  {
   "cell_type": "code",
   "execution_count": 97,
   "id": "e808dc70",
   "metadata": {},
   "outputs": [
    {
     "data": {
      "text/plain": [
       "(sex  ageGroup\n",
       " f    <=18        10.550000\n",
       "      (18-25]     20.616667\n",
       "      (25-35]     21.083333\n",
       "      (35,45]     19.600000\n",
       "      (45,55]     12.766667\n",
       "      (55-65]      7.133333\n",
       "      >65          9.783333\n",
       " Name: ageGroup, dtype: float64,\n",
       " 92)"
      ]
     },
     "execution_count": 97,
     "metadata": {},
     "output_type": "execute_result"
    }
   ],
   "source": [
    "#distribuição de morte entre motoristas mulheres \n",
    "df_drivers1[df_drivers1['sex']=='f'].groupby([\"sex\",'ageGroup'])['ageGroup'].count()/60,92 "
   ]
  },
  {
   "cell_type": "code",
   "execution_count": 98,
   "id": "8a728fef",
   "metadata": {},
   "outputs": [
    {
     "data": {
      "text/plain": [
       "(sex  ageGroup\n",
       " m    <=18         9.727273\n",
       "      (18-25]     22.922078\n",
       "      (25-35]     20.935065\n",
       "      (35,45]     17.675325\n",
       "      (45,55]     12.831169\n",
       "      (55-65]      6.415584\n",
       "      >65          9.623377\n",
       " Name: ageGroup, dtype: float64,\n",
       " 10)"
      ]
     },
     "execution_count": 98,
     "metadata": {},
     "output_type": "execute_result"
    }
   ],
   "source": [
    "#distribuição de morte entre motoristas homens\n",
    "df_drivers1[df_drivers1['sex']=='m'].groupby([\"sex\",'ageGroup'])['ageGroup'].count()/77,10"
   ]
  },
  {
   "cell_type": "raw",
   "id": "99fea59c",
   "metadata": {},
   "source": [
    "Para motoristas mulheres, os acidentes ocorrem mais entre 25 e 35 anos.\n",
    "Para motoristas mulheres, os acidentes ocorrem mais entre 18 e 25 anos."
   ]
  },
  {
   "cell_type": "code",
   "execution_count": 110,
   "id": "acf1cdda",
   "metadata": {},
   "outputs": [
    {
     "data": {
      "image/png": "[encoded data removed]",
      "text/plain": [
       "<Figure size 432x216 with 2 Axes>"
      ]
     },
     "metadata": {
      "needs_background": "light"
     },
     "output_type": "display_data"
    }
   ],
   "source": [
    "## _______ testando se mulheres usam mais cinto de segurança do que homens:\n",
    "grid = sns.FacetGrid(df_drivers1, col='sex',hue='sex')\n",
    "grid.map(sns.histplot, 'seatbelt', stat='percent')\n",
    "plt.show()"
   ]
  },
  {
   "cell_type": "code",
   "execution_count": 108,
   "id": "5f8ae891",
   "metadata": {},
   "outputs": [
    {
     "data": {
      "text/plain": [
       "(sex  seatbelt\n",
       " f    belted      79.833333\n",
       "      none        21.700000\n",
       " Name: seatbelt, dtype: float64,\n",
       " 92)"
      ]
     },
     "execution_count": 108,
     "metadata": {},
     "output_type": "execute_result"
    }
   ],
   "source": [
    "# uso de cinto entre motoristas mulheres \n",
    "df_drivers1[df_drivers1['sex']=='f'].groupby([\"sex\",'seatbelt'])['seatbelt'].count()/60,92"
   ]
  },
  {
   "cell_type": "code",
   "execution_count": 109,
   "id": "d586c386",
   "metadata": {},
   "outputs": [
    {
     "data": {
      "text/plain": [
       "(sex  seatbelt\n",
       " m    belted      67.38961\n",
       "      none        32.74026\n",
       " Name: seatbelt, dtype: float64,\n",
       " 10)"
      ]
     },
     "execution_count": 109,
     "metadata": {},
     "output_type": "execute_result"
    }
   ],
   "source": [
    "#uso de cinto entre motoristas homens\n",
    "df_drivers1[df_drivers1['sex']=='m'].groupby([\"sex\",'seatbelt'])['seatbelt'].count()/77,10"
   ]
  },
  {
   "cell_type": "markdown",
   "id": "fa1589c3",
   "metadata": {},
   "source": [
    "Motoristas mulheres usam mais cinto de segurança do que motoristas homens (18%)."
   ]
  },
  {
   "cell_type": "code",
   "execution_count": 119,
   "id": "633ad2ba",
   "metadata": {},
   "outputs": [
    {
     "name": "stdout",
     "output_type": "stream",
     "text": [
      "     dvcat speed\n",
      "0  1-9km/h     1\n",
      "1    10-24     2\n",
      "2    25-39     3\n",
      "3    40-54     4\n",
      "4      55+     5\n"
     ]
    }
   ],
   "source": [
    "# __________ avaliando a velocidade em que os motoristas dirigiam\n",
    "\n",
    "# melhorando a leitura do campo 'dvcat':\n",
    "# criando um DataFrame para atribuição:\n",
    "dfApoio = pd.DataFrame({'dvcat': ['1-9km/h','10-24','25-39','40-54','55+'], \n",
    "                   'speed': ['1','2','3','4','5']})\n",
    "#df_drivers1['dvcat'].value_counts()\n",
    "print(dfApoio)"
   ]
  },
  {
   "cell_type": "code",
   "execution_count": 122,
   "id": "896b6bc7",
   "metadata": {},
   "outputs": [
    {
     "data": {
      "text/html": [
       "<div>\n",
       "<style scoped>\n",
       "    .dataframe tbody tr th:only-of-type {\n",
       "        vertical-align: middle;\n",
       "    }\n",
       "\n",
       "    .dataframe tbody tr th {\n",
       "        vertical-align: top;\n",
       "    }\n",
       "\n",
       "    .dataframe thead th {\n",
       "        text-align: right;\n",
       "    }\n",
       "</style>\n",
       "<table border=\"1\" class=\"dataframe\">\n",
       "  <thead>\n",
       "    <tr style=\"text-align: right;\">\n",
       "      <th></th>\n",
       "      <th>dvcat</th>\n",
       "      <th>weight</th>\n",
       "      <th>dead</th>\n",
       "      <th>airbag</th>\n",
       "      <th>seatbelt</th>\n",
       "      <th>frontal</th>\n",
       "      <th>sex</th>\n",
       "      <th>ageOFocc</th>\n",
       "      <th>yearacc</th>\n",
       "      <th>yearVeh</th>\n",
       "      <th>abcat</th>\n",
       "      <th>occRole</th>\n",
       "      <th>deploy</th>\n",
       "      <th>caseid</th>\n",
       "      <th>injSeverity</th>\n",
       "      <th>ageGroup</th>\n",
       "      <th>speed</th>\n",
       "    </tr>\n",
       "  </thead>\n",
       "  <tbody>\n",
       "    <tr>\n",
       "      <th>0</th>\n",
       "      <td>55+</td>\n",
       "      <td>53.342</td>\n",
       "      <td>dead</td>\n",
       "      <td>airbag</td>\n",
       "      <td>belted</td>\n",
       "      <td>1</td>\n",
       "      <td>f</td>\n",
       "      <td>48</td>\n",
       "      <td>2002</td>\n",
       "      <td>1997</td>\n",
       "      <td>deploy</td>\n",
       "      <td>driver</td>\n",
       "      <td>1</td>\n",
       "      <td>45:150:1</td>\n",
       "      <td>3</td>\n",
       "      <td>(45,55]</td>\n",
       "      <td>5</td>\n",
       "    </tr>\n",
       "    <tr>\n",
       "      <th>1</th>\n",
       "      <td>55+</td>\n",
       "      <td>38.994</td>\n",
       "      <td>alive</td>\n",
       "      <td>none</td>\n",
       "      <td>none</td>\n",
       "      <td>1</td>\n",
       "      <td>f</td>\n",
       "      <td>51</td>\n",
       "      <td>2002</td>\n",
       "      <td>1994</td>\n",
       "      <td>unavail</td>\n",
       "      <td>driver</td>\n",
       "      <td>0</td>\n",
       "      <td>11:184:1</td>\n",
       "      <td>3</td>\n",
       "      <td>(45,55]</td>\n",
       "      <td>5</td>\n",
       "    </tr>\n",
       "    <tr>\n",
       "      <th>2</th>\n",
       "      <td>55+</td>\n",
       "      <td>83.896</td>\n",
       "      <td>alive</td>\n",
       "      <td>airbag</td>\n",
       "      <td>belted</td>\n",
       "      <td>1</td>\n",
       "      <td>m</td>\n",
       "      <td>24</td>\n",
       "      <td>2002</td>\n",
       "      <td>2002</td>\n",
       "      <td>deploy</td>\n",
       "      <td>driver</td>\n",
       "      <td>1</td>\n",
       "      <td>47:132:1</td>\n",
       "      <td>3</td>\n",
       "      <td>(18-25]</td>\n",
       "      <td>5</td>\n",
       "    </tr>\n",
       "    <tr>\n",
       "      <th>3</th>\n",
       "      <td>55+</td>\n",
       "      <td>89.920</td>\n",
       "      <td>alive</td>\n",
       "      <td>none</td>\n",
       "      <td>none</td>\n",
       "      <td>1</td>\n",
       "      <td>m</td>\n",
       "      <td>19</td>\n",
       "      <td>1997</td>\n",
       "      <td>1990</td>\n",
       "      <td>unavail</td>\n",
       "      <td>driver</td>\n",
       "      <td>0</td>\n",
       "      <td>13:134:1</td>\n",
       "      <td>3</td>\n",
       "      <td>(18-25]</td>\n",
       "      <td>5</td>\n",
       "    </tr>\n",
       "    <tr>\n",
       "      <th>4</th>\n",
       "      <td>55+</td>\n",
       "      <td>46.257</td>\n",
       "      <td>alive</td>\n",
       "      <td>airbag</td>\n",
       "      <td>belted</td>\n",
       "      <td>1</td>\n",
       "      <td>f</td>\n",
       "      <td>39</td>\n",
       "      <td>1999</td>\n",
       "      <td>1994</td>\n",
       "      <td>deploy</td>\n",
       "      <td>driver</td>\n",
       "      <td>1</td>\n",
       "      <td>45:189:2</td>\n",
       "      <td>3</td>\n",
       "      <td>(35,45]</td>\n",
       "      <td>5</td>\n",
       "    </tr>\n",
       "  </tbody>\n",
       "</table>\n",
       "</div>"
      ],
      "text/plain": [
       "  dvcat  weight   dead  airbag seatbelt  frontal sex  ageOFocc  yearacc  \\\n",
       "0   55+  53.342   dead  airbag   belted        1   f        48     2002   \n",
       "1   55+  38.994  alive    none     none        1   f        51     2002   \n",
       "2   55+  83.896  alive  airbag   belted        1   m        24     2002   \n",
       "3   55+  89.920  alive    none     none        1   m        19     1997   \n",
       "4   55+  46.257  alive  airbag   belted        1   f        39     1999   \n",
       "\n",
       "   yearVeh    abcat occRole  deploy    caseid  injSeverity ageGroup speed  \n",
       "0     1997   deploy  driver       1  45:150:1            3  (45,55]     5  \n",
       "1     1994  unavail  driver       0  11:184:1            3  (45,55]     5  \n",
       "2     2002   deploy  driver       1  47:132:1            3  (18-25]     5  \n",
       "3     1990  unavail  driver       0  13:134:1            3  (18-25]     5  \n",
       "4     1994   deploy  driver       1  45:189:2            3  (35,45]     5  "
      ]
     },
     "execution_count": 122,
     "metadata": {},
     "output_type": "execute_result"
    }
   ],
   "source": [
    "# usando .merge a partir da chave 'dvcat':\n",
    "df_drivers2 = pd.merge(df_drivers1,dfApoio, on='dvcat') \n",
    "df_drivers2.head()"
   ]
  },
  {
   "cell_type": "code",
   "execution_count": 134,
   "id": "80dfdb68",
   "metadata": {},
   "outputs": [
    {
     "data": {
      "image/png": "[encoded data removed]",
      "text/plain": [
       "<Figure size 432x216 with 2 Axes>"
      ]
     },
     "metadata": {
      "needs_background": "light"
     },
     "output_type": "display_data"
    }
   ],
   "source": [
    "# comparando graficamente\n",
    "grid = sns.FacetGrid(df_drivers2, col='sex',hue='sex')\n",
    "grid.map(sns.histplot,'speed')\n",
    "plt.show()"
   ]
  },
  {
   "cell_type": "code",
   "execution_count": 124,
   "id": "a4898c04",
   "metadata": {},
   "outputs": [
    {
     "data": {
      "text/plain": [
       "(sex  speed\n",
       " f    1         2.700000\n",
       "      2        53.683333\n",
       "      3        30.866667\n",
       "      4         9.950000\n",
       "      5         4.333333\n",
       " Name: speed, dtype: float64,\n",
       " 92)"
      ]
     },
     "execution_count": 124,
     "metadata": {},
     "output_type": "execute_result"
    }
   ],
   "source": [
    "#distribuição de velocidade entre motoristas mulheres \n",
    "df_drivers2[df_drivers2['sex']=='f'].groupby([\"sex\",'speed'])['speed'].count()/60,92 "
   ]
  },
  {
   "cell_type": "code",
   "execution_count": 125,
   "id": "e3ed6a81",
   "metadata": {},
   "outputs": [
    {
     "data": {
      "text/plain": [
       "(sex  speed\n",
       " m    1         2.701299\n",
       "      2        45.948052\n",
       "      3        32.000000\n",
       "      4        12.415584\n",
       "      5         7.064935\n",
       " Name: speed, dtype: float64,\n",
       " 10)"
      ]
     },
     "execution_count": 125,
     "metadata": {},
     "output_type": "execute_result"
    }
   ],
   "source": [
    "#distribuição de velocidade entre motoristas homens \n",
    "df_drivers2[df_drivers2['sex']=='m'].groupby([\"sex\",'speed'])['speed'].count()/77,10"
   ]
  },
  {
   "cell_type": "code",
   "execution_count": 135,
   "id": "9b0475e3",
   "metadata": {},
   "outputs": [
    {
     "data": {
      "text/html": [
       "<div>\n",
       "<style scoped>\n",
       "    .dataframe tbody tr th:only-of-type {\n",
       "        vertical-align: middle;\n",
       "    }\n",
       "\n",
       "    .dataframe tbody tr th {\n",
       "        vertical-align: top;\n",
       "    }\n",
       "\n",
       "    .dataframe thead th {\n",
       "        text-align: right;\n",
       "    }\n",
       "</style>\n",
       "<table border=\"1\" class=\"dataframe\">\n",
       "  <thead>\n",
       "    <tr style=\"text-align: right;\">\n",
       "      <th></th>\n",
       "      <th>dvcat</th>\n",
       "      <th>speed</th>\n",
       "    </tr>\n",
       "  </thead>\n",
       "  <tbody>\n",
       "    <tr>\n",
       "      <th>0</th>\n",
       "      <td>1-9km/h</td>\n",
       "      <td>1</td>\n",
       "    </tr>\n",
       "    <tr>\n",
       "      <th>1</th>\n",
       "      <td>10-24</td>\n",
       "      <td>2</td>\n",
       "    </tr>\n",
       "    <tr>\n",
       "      <th>2</th>\n",
       "      <td>25-39</td>\n",
       "      <td>3</td>\n",
       "    </tr>\n",
       "    <tr>\n",
       "      <th>3</th>\n",
       "      <td>40-54</td>\n",
       "      <td>4</td>\n",
       "    </tr>\n",
       "    <tr>\n",
       "      <th>4</th>\n",
       "      <td>55+</td>\n",
       "      <td>5</td>\n",
       "    </tr>\n",
       "  </tbody>\n",
       "</table>\n",
       "</div>"
      ],
      "text/plain": [
       "     dvcat speed\n",
       "0  1-9km/h     1\n",
       "1    10-24     2\n",
       "2    25-39     3\n",
       "3    40-54     4\n",
       "4      55+     5"
      ]
     },
     "execution_count": 135,
     "metadata": {},
     "output_type": "execute_result"
    }
   ],
   "source": [
    "dfApoio"
   ]
  },
  {
   "cell_type": "raw",
   "id": "62edaf8a",
   "metadata": {},
   "source": [
    "Motoristas mulheres tem uma frequência maior do que motoristas homens quando falamos de acidentes com velocidades de até 24km/h.\n",
    "Acima de 24km/h, os homens tem uma frequência maior de acidentes."
   ]
  }
 ],
 "metadata": {
  "kernelspec": {
   "display_name": "Python 3 (ipykernel)",
   "language": "python",
   "name": "python3"
  },
  "language_info": {
   "codemirror_mode": {
    "name": "ipython",
    "version": 3
   },
   "file_extension": ".py",
   "mimetype": "text/x-python",
   "name": "python",
   "nbconvert_exporter": "python",
   "pygments_lexer": "ipython3",
   "version": "3.9.12"
  }
 },
 "nbformat": 4,
 "nbformat_minor": 5
}
