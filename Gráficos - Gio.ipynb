{
 "cells": [
  {
   "cell_type": "code",
   "execution_count": 1,
   "id": "8c031ff9",
   "metadata": {},
   "outputs": [],
   "source": [
    "import pandas as pd\n",
    "import numpy as np\n",
    "import seaborn as sns\n",
    "import matplotlib.pyplot as plt"
   ]
  },
  {
   "cell_type": "code",
   "execution_count": 2,
   "id": "a27c898f",
   "metadata": {},
   "outputs": [],
   "source": [
    "carcrash = pd.read_csv('carcrash.csv')"
   ]
  },
  {
   "cell_type": "code",
   "execution_count": 4,
   "id": "3ebc3c5d",
   "metadata": {},
   "outputs": [
    {
     "data": {
      "text/html": [
       "<div>\n",
       "<style scoped>\n",
       "    .dataframe tbody tr th:only-of-type {\n",
       "        vertical-align: middle;\n",
       "    }\n",
       "\n",
       "    .dataframe tbody tr th {\n",
       "        vertical-align: top;\n",
       "    }\n",
       "\n",
       "    .dataframe thead th {\n",
       "        text-align: right;\n",
       "    }\n",
       "</style>\n",
       "<table border=\"1\" class=\"dataframe\">\n",
       "  <thead>\n",
       "    <tr style=\"text-align: right;\">\n",
       "      <th></th>\n",
       "      <th>dvcat</th>\n",
       "      <th>weight</th>\n",
       "      <th>dead</th>\n",
       "      <th>airbag</th>\n",
       "      <th>seatbelt</th>\n",
       "      <th>frontal</th>\n",
       "      <th>sex</th>\n",
       "      <th>ageOFocc</th>\n",
       "      <th>yearacc</th>\n",
       "      <th>yearVeh</th>\n",
       "      <th>abcat</th>\n",
       "      <th>occRole</th>\n",
       "      <th>deploy</th>\n",
       "      <th>caseid</th>\n",
       "    </tr>\n",
       "  </thead>\n",
       "  <tbody>\n",
       "    <tr>\n",
       "      <th>0</th>\n",
       "      <td>40-54</td>\n",
       "      <td>18.895</td>\n",
       "      <td>alive</td>\n",
       "      <td>airbag</td>\n",
       "      <td>belted</td>\n",
       "      <td>0</td>\n",
       "      <td>m</td>\n",
       "      <td>25</td>\n",
       "      <td>2002</td>\n",
       "      <td>2000.0</td>\n",
       "      <td>deploy</td>\n",
       "      <td>pass</td>\n",
       "      <td>1</td>\n",
       "      <td>81:99:1</td>\n",
       "    </tr>\n",
       "    <tr>\n",
       "      <th>1</th>\n",
       "      <td>25-39</td>\n",
       "      <td>266.532</td>\n",
       "      <td>alive</td>\n",
       "      <td>none</td>\n",
       "      <td>none</td>\n",
       "      <td>1</td>\n",
       "      <td>f</td>\n",
       "      <td>28</td>\n",
       "      <td>2001</td>\n",
       "      <td>1991.0</td>\n",
       "      <td>unavail</td>\n",
       "      <td>driver</td>\n",
       "      <td>0</td>\n",
       "      <td>76:12:2</td>\n",
       "    </tr>\n",
       "    <tr>\n",
       "      <th>2</th>\n",
       "      <td>25-39</td>\n",
       "      <td>51.810</td>\n",
       "      <td>alive</td>\n",
       "      <td>airbag</td>\n",
       "      <td>belted</td>\n",
       "      <td>1</td>\n",
       "      <td>f</td>\n",
       "      <td>36</td>\n",
       "      <td>1999</td>\n",
       "      <td>1994.0</td>\n",
       "      <td>deploy</td>\n",
       "      <td>driver</td>\n",
       "      <td>1</td>\n",
       "      <td>78:53:2</td>\n",
       "    </tr>\n",
       "    <tr>\n",
       "      <th>3</th>\n",
       "      <td>10-24</td>\n",
       "      <td>1567.626</td>\n",
       "      <td>alive</td>\n",
       "      <td>airbag</td>\n",
       "      <td>belted</td>\n",
       "      <td>0</td>\n",
       "      <td>f</td>\n",
       "      <td>24</td>\n",
       "      <td>2002</td>\n",
       "      <td>1994.0</td>\n",
       "      <td>nodeploy</td>\n",
       "      <td>driver</td>\n",
       "      <td>0</td>\n",
       "      <td>11:47:1</td>\n",
       "    </tr>\n",
       "    <tr>\n",
       "      <th>4</th>\n",
       "      <td>25-39</td>\n",
       "      <td>31.342</td>\n",
       "      <td>alive</td>\n",
       "      <td>none</td>\n",
       "      <td>none</td>\n",
       "      <td>1</td>\n",
       "      <td>f</td>\n",
       "      <td>46</td>\n",
       "      <td>1997</td>\n",
       "      <td>1990.0</td>\n",
       "      <td>unavail</td>\n",
       "      <td>pass</td>\n",
       "      <td>0</td>\n",
       "      <td>12:87:2</td>\n",
       "    </tr>\n",
       "    <tr>\n",
       "      <th>...</th>\n",
       "      <td>...</td>\n",
       "      <td>...</td>\n",
       "      <td>...</td>\n",
       "      <td>...</td>\n",
       "      <td>...</td>\n",
       "      <td>...</td>\n",
       "      <td>...</td>\n",
       "      <td>...</td>\n",
       "      <td>...</td>\n",
       "      <td>...</td>\n",
       "      <td>...</td>\n",
       "      <td>...</td>\n",
       "      <td>...</td>\n",
       "      <td>...</td>\n",
       "    </tr>\n",
       "    <tr>\n",
       "      <th>8647</th>\n",
       "      <td>10-24</td>\n",
       "      <td>64.757</td>\n",
       "      <td>alive</td>\n",
       "      <td>airbag</td>\n",
       "      <td>none</td>\n",
       "      <td>0</td>\n",
       "      <td>m</td>\n",
       "      <td>37</td>\n",
       "      <td>2001</td>\n",
       "      <td>1999.0</td>\n",
       "      <td>nodeploy</td>\n",
       "      <td>driver</td>\n",
       "      <td>0</td>\n",
       "      <td>6:71:2</td>\n",
       "    </tr>\n",
       "    <tr>\n",
       "      <th>8648</th>\n",
       "      <td>1-9km/h</td>\n",
       "      <td>178.651</td>\n",
       "      <td>alive</td>\n",
       "      <td>airbag</td>\n",
       "      <td>none</td>\n",
       "      <td>1</td>\n",
       "      <td>f</td>\n",
       "      <td>16</td>\n",
       "      <td>2001</td>\n",
       "      <td>2001.0</td>\n",
       "      <td>deploy</td>\n",
       "      <td>pass</td>\n",
       "      <td>1</td>\n",
       "      <td>76:57:2</td>\n",
       "    </tr>\n",
       "    <tr>\n",
       "      <th>8649</th>\n",
       "      <td>25-39</td>\n",
       "      <td>482.272</td>\n",
       "      <td>alive</td>\n",
       "      <td>airbag</td>\n",
       "      <td>belted</td>\n",
       "      <td>1</td>\n",
       "      <td>m</td>\n",
       "      <td>16</td>\n",
       "      <td>1997</td>\n",
       "      <td>1992.0</td>\n",
       "      <td>deploy</td>\n",
       "      <td>driver</td>\n",
       "      <td>1</td>\n",
       "      <td>74:65:1</td>\n",
       "    </tr>\n",
       "    <tr>\n",
       "      <th>8650</th>\n",
       "      <td>55+</td>\n",
       "      <td>32.467</td>\n",
       "      <td>alive</td>\n",
       "      <td>none</td>\n",
       "      <td>belted</td>\n",
       "      <td>1</td>\n",
       "      <td>m</td>\n",
       "      <td>26</td>\n",
       "      <td>1998</td>\n",
       "      <td>1994.0</td>\n",
       "      <td>unavail</td>\n",
       "      <td>driver</td>\n",
       "      <td>0</td>\n",
       "      <td>12:4:2</td>\n",
       "    </tr>\n",
       "    <tr>\n",
       "      <th>8651</th>\n",
       "      <td>40-54</td>\n",
       "      <td>10.800</td>\n",
       "      <td>dead</td>\n",
       "      <td>none</td>\n",
       "      <td>none</td>\n",
       "      <td>0</td>\n",
       "      <td>m</td>\n",
       "      <td>73</td>\n",
       "      <td>1998</td>\n",
       "      <td>1989.0</td>\n",
       "      <td>unavail</td>\n",
       "      <td>driver</td>\n",
       "      <td>0</td>\n",
       "      <td>4:32:1</td>\n",
       "    </tr>\n",
       "  </tbody>\n",
       "</table>\n",
       "<p>8652 rows × 14 columns</p>\n",
       "</div>"
      ],
      "text/plain": [
       "        dvcat    weight   dead  airbag seatbelt  frontal sex  ageOFocc  \\\n",
       "0       40-54    18.895  alive  airbag   belted        0   m        25   \n",
       "1       25-39   266.532  alive    none     none        1   f        28   \n",
       "2       25-39    51.810  alive  airbag   belted        1   f        36   \n",
       "3       10-24  1567.626  alive  airbag   belted        0   f        24   \n",
       "4       25-39    31.342  alive    none     none        1   f        46   \n",
       "...       ...       ...    ...     ...      ...      ...  ..       ...   \n",
       "8647    10-24    64.757  alive  airbag     none        0   m        37   \n",
       "8648  1-9km/h   178.651  alive  airbag     none        1   f        16   \n",
       "8649    25-39   482.272  alive  airbag   belted        1   m        16   \n",
       "8650      55+    32.467  alive    none   belted        1   m        26   \n",
       "8651    40-54    10.800   dead    none     none        0   m        73   \n",
       "\n",
       "      yearacc  yearVeh     abcat occRole  deploy   caseid  \n",
       "0        2002   2000.0    deploy    pass       1  81:99:1  \n",
       "1        2001   1991.0   unavail  driver       0  76:12:2  \n",
       "2        1999   1994.0    deploy  driver       1  78:53:2  \n",
       "3        2002   1994.0  nodeploy  driver       0  11:47:1  \n",
       "4        1997   1990.0   unavail    pass       0  12:87:2  \n",
       "...       ...      ...       ...     ...     ...      ...  \n",
       "8647     2001   1999.0  nodeploy  driver       0   6:71:2  \n",
       "8648     2001   2001.0    deploy    pass       1  76:57:2  \n",
       "8649     1997   1992.0    deploy  driver       1  74:65:1  \n",
       "8650     1998   1994.0   unavail  driver       0   12:4:2  \n",
       "8651     1998   1989.0   unavail  driver       0   4:32:1  \n",
       "\n",
       "[8652 rows x 14 columns]"
      ]
     },
     "execution_count": 4,
     "metadata": {},
     "output_type": "execute_result"
    }
   ],
   "source": [
    "carcrash"
   ]
  },
  {
   "cell_type": "code",
   "execution_count": 6,
   "id": "c350d1ba",
   "metadata": {},
   "outputs": [],
   "source": [
    "# INCLUINDO UMA COLUNA DE CATEGORIZAÇÃO DE IDADE\n",
    "import sys\n",
    "\n",
    "carcrash['ageGroup']=pd.cut(\n",
    "   carcrash['ageOFocc'],\n",
    "   bins=[0, 25, 40, 60, sys.maxsize],\n",
    "   labels=['até 24', '25 à 39', '40 à 59', '60+'])"
   ]
  },
  {
   "cell_type": "code",
   "execution_count": 8,
   "id": "a63841ec",
   "metadata": {},
   "outputs": [
    {
     "data": {
      "text/html": [
       "<div>\n",
       "<style scoped>\n",
       "    .dataframe tbody tr th:only-of-type {\n",
       "        vertical-align: middle;\n",
       "    }\n",
       "\n",
       "    .dataframe tbody tr th {\n",
       "        vertical-align: top;\n",
       "    }\n",
       "\n",
       "    .dataframe thead th {\n",
       "        text-align: right;\n",
       "    }\n",
       "</style>\n",
       "<table border=\"1\" class=\"dataframe\">\n",
       "  <thead>\n",
       "    <tr style=\"text-align: right;\">\n",
       "      <th></th>\n",
       "      <th>dvcat</th>\n",
       "      <th>weight</th>\n",
       "      <th>dead</th>\n",
       "      <th>airbag</th>\n",
       "      <th>seatbelt</th>\n",
       "      <th>frontal</th>\n",
       "      <th>sex</th>\n",
       "      <th>ageOFocc</th>\n",
       "      <th>yearacc</th>\n",
       "      <th>yearVeh</th>\n",
       "      <th>abcat</th>\n",
       "      <th>occRole</th>\n",
       "      <th>deploy</th>\n",
       "      <th>caseid</th>\n",
       "      <th>ageGroup</th>\n",
       "    </tr>\n",
       "  </thead>\n",
       "  <tbody>\n",
       "    <tr>\n",
       "      <th>0</th>\n",
       "      <td>40-54</td>\n",
       "      <td>18.895</td>\n",
       "      <td>alive</td>\n",
       "      <td>airbag</td>\n",
       "      <td>belted</td>\n",
       "      <td>0</td>\n",
       "      <td>m</td>\n",
       "      <td>25</td>\n",
       "      <td>2002</td>\n",
       "      <td>2000.0</td>\n",
       "      <td>deploy</td>\n",
       "      <td>pass</td>\n",
       "      <td>1</td>\n",
       "      <td>81:99:1</td>\n",
       "      <td>até 24</td>\n",
       "    </tr>\n",
       "    <tr>\n",
       "      <th>1</th>\n",
       "      <td>25-39</td>\n",
       "      <td>266.532</td>\n",
       "      <td>alive</td>\n",
       "      <td>none</td>\n",
       "      <td>none</td>\n",
       "      <td>1</td>\n",
       "      <td>f</td>\n",
       "      <td>28</td>\n",
       "      <td>2001</td>\n",
       "      <td>1991.0</td>\n",
       "      <td>unavail</td>\n",
       "      <td>driver</td>\n",
       "      <td>0</td>\n",
       "      <td>76:12:2</td>\n",
       "      <td>25 à 39</td>\n",
       "    </tr>\n",
       "    <tr>\n",
       "      <th>2</th>\n",
       "      <td>25-39</td>\n",
       "      <td>51.810</td>\n",
       "      <td>alive</td>\n",
       "      <td>airbag</td>\n",
       "      <td>belted</td>\n",
       "      <td>1</td>\n",
       "      <td>f</td>\n",
       "      <td>36</td>\n",
       "      <td>1999</td>\n",
       "      <td>1994.0</td>\n",
       "      <td>deploy</td>\n",
       "      <td>driver</td>\n",
       "      <td>1</td>\n",
       "      <td>78:53:2</td>\n",
       "      <td>25 à 39</td>\n",
       "    </tr>\n",
       "    <tr>\n",
       "      <th>3</th>\n",
       "      <td>10-24</td>\n",
       "      <td>1567.626</td>\n",
       "      <td>alive</td>\n",
       "      <td>airbag</td>\n",
       "      <td>belted</td>\n",
       "      <td>0</td>\n",
       "      <td>f</td>\n",
       "      <td>24</td>\n",
       "      <td>2002</td>\n",
       "      <td>1994.0</td>\n",
       "      <td>nodeploy</td>\n",
       "      <td>driver</td>\n",
       "      <td>0</td>\n",
       "      <td>11:47:1</td>\n",
       "      <td>até 24</td>\n",
       "    </tr>\n",
       "    <tr>\n",
       "      <th>4</th>\n",
       "      <td>25-39</td>\n",
       "      <td>31.342</td>\n",
       "      <td>alive</td>\n",
       "      <td>none</td>\n",
       "      <td>none</td>\n",
       "      <td>1</td>\n",
       "      <td>f</td>\n",
       "      <td>46</td>\n",
       "      <td>1997</td>\n",
       "      <td>1990.0</td>\n",
       "      <td>unavail</td>\n",
       "      <td>pass</td>\n",
       "      <td>0</td>\n",
       "      <td>12:87:2</td>\n",
       "      <td>40 à 59</td>\n",
       "    </tr>\n",
       "    <tr>\n",
       "      <th>...</th>\n",
       "      <td>...</td>\n",
       "      <td>...</td>\n",
       "      <td>...</td>\n",
       "      <td>...</td>\n",
       "      <td>...</td>\n",
       "      <td>...</td>\n",
       "      <td>...</td>\n",
       "      <td>...</td>\n",
       "      <td>...</td>\n",
       "      <td>...</td>\n",
       "      <td>...</td>\n",
       "      <td>...</td>\n",
       "      <td>...</td>\n",
       "      <td>...</td>\n",
       "      <td>...</td>\n",
       "    </tr>\n",
       "    <tr>\n",
       "      <th>8647</th>\n",
       "      <td>10-24</td>\n",
       "      <td>64.757</td>\n",
       "      <td>alive</td>\n",
       "      <td>airbag</td>\n",
       "      <td>none</td>\n",
       "      <td>0</td>\n",
       "      <td>m</td>\n",
       "      <td>37</td>\n",
       "      <td>2001</td>\n",
       "      <td>1999.0</td>\n",
       "      <td>nodeploy</td>\n",
       "      <td>driver</td>\n",
       "      <td>0</td>\n",
       "      <td>6:71:2</td>\n",
       "      <td>25 à 39</td>\n",
       "    </tr>\n",
       "    <tr>\n",
       "      <th>8648</th>\n",
       "      <td>1-9km/h</td>\n",
       "      <td>178.651</td>\n",
       "      <td>alive</td>\n",
       "      <td>airbag</td>\n",
       "      <td>none</td>\n",
       "      <td>1</td>\n",
       "      <td>f</td>\n",
       "      <td>16</td>\n",
       "      <td>2001</td>\n",
       "      <td>2001.0</td>\n",
       "      <td>deploy</td>\n",
       "      <td>pass</td>\n",
       "      <td>1</td>\n",
       "      <td>76:57:2</td>\n",
       "      <td>até 24</td>\n",
       "    </tr>\n",
       "    <tr>\n",
       "      <th>8649</th>\n",
       "      <td>25-39</td>\n",
       "      <td>482.272</td>\n",
       "      <td>alive</td>\n",
       "      <td>airbag</td>\n",
       "      <td>belted</td>\n",
       "      <td>1</td>\n",
       "      <td>m</td>\n",
       "      <td>16</td>\n",
       "      <td>1997</td>\n",
       "      <td>1992.0</td>\n",
       "      <td>deploy</td>\n",
       "      <td>driver</td>\n",
       "      <td>1</td>\n",
       "      <td>74:65:1</td>\n",
       "      <td>até 24</td>\n",
       "    </tr>\n",
       "    <tr>\n",
       "      <th>8650</th>\n",
       "      <td>55+</td>\n",
       "      <td>32.467</td>\n",
       "      <td>alive</td>\n",
       "      <td>none</td>\n",
       "      <td>belted</td>\n",
       "      <td>1</td>\n",
       "      <td>m</td>\n",
       "      <td>26</td>\n",
       "      <td>1998</td>\n",
       "      <td>1994.0</td>\n",
       "      <td>unavail</td>\n",
       "      <td>driver</td>\n",
       "      <td>0</td>\n",
       "      <td>12:4:2</td>\n",
       "      <td>25 à 39</td>\n",
       "    </tr>\n",
       "    <tr>\n",
       "      <th>8651</th>\n",
       "      <td>40-54</td>\n",
       "      <td>10.800</td>\n",
       "      <td>dead</td>\n",
       "      <td>none</td>\n",
       "      <td>none</td>\n",
       "      <td>0</td>\n",
       "      <td>m</td>\n",
       "      <td>73</td>\n",
       "      <td>1998</td>\n",
       "      <td>1989.0</td>\n",
       "      <td>unavail</td>\n",
       "      <td>driver</td>\n",
       "      <td>0</td>\n",
       "      <td>4:32:1</td>\n",
       "      <td>60+</td>\n",
       "    </tr>\n",
       "  </tbody>\n",
       "</table>\n",
       "<p>8652 rows × 15 columns</p>\n",
       "</div>"
      ],
      "text/plain": [
       "        dvcat    weight   dead  airbag seatbelt  frontal sex  ageOFocc  \\\n",
       "0       40-54    18.895  alive  airbag   belted        0   m        25   \n",
       "1       25-39   266.532  alive    none     none        1   f        28   \n",
       "2       25-39    51.810  alive  airbag   belted        1   f        36   \n",
       "3       10-24  1567.626  alive  airbag   belted        0   f        24   \n",
       "4       25-39    31.342  alive    none     none        1   f        46   \n",
       "...       ...       ...    ...     ...      ...      ...  ..       ...   \n",
       "8647    10-24    64.757  alive  airbag     none        0   m        37   \n",
       "8648  1-9km/h   178.651  alive  airbag     none        1   f        16   \n",
       "8649    25-39   482.272  alive  airbag   belted        1   m        16   \n",
       "8650      55+    32.467  alive    none   belted        1   m        26   \n",
       "8651    40-54    10.800   dead    none     none        0   m        73   \n",
       "\n",
       "      yearacc  yearVeh     abcat occRole  deploy   caseid ageGroup  \n",
       "0        2002   2000.0    deploy    pass       1  81:99:1   até 24  \n",
       "1        2001   1991.0   unavail  driver       0  76:12:2  25 à 39  \n",
       "2        1999   1994.0    deploy  driver       1  78:53:2  25 à 39  \n",
       "3        2002   1994.0  nodeploy  driver       0  11:47:1   até 24  \n",
       "4        1997   1990.0   unavail    pass       0  12:87:2  40 à 59  \n",
       "...       ...      ...       ...     ...     ...      ...      ...  \n",
       "8647     2001   1999.0  nodeploy  driver       0   6:71:2  25 à 39  \n",
       "8648     2001   2001.0    deploy    pass       1  76:57:2   até 24  \n",
       "8649     1997   1992.0    deploy  driver       1  74:65:1   até 24  \n",
       "8650     1998   1994.0   unavail  driver       0   12:4:2  25 à 39  \n",
       "8651     1998   1989.0   unavail  driver       0   4:32:1      60+  \n",
       "\n",
       "[8652 rows x 15 columns]"
      ]
     },
     "execution_count": 8,
     "metadata": {},
     "output_type": "execute_result"
    }
   ],
   "source": [
    "carcrash"
   ]
  },
  {
   "cell_type": "code",
   "execution_count": 9,
   "id": "e36489a0",
   "metadata": {},
   "outputs": [
    {
     "data": {
      "text/html": [
       "<div>\n",
       "<style scoped>\n",
       "    .dataframe tbody tr th:only-of-type {\n",
       "        vertical-align: middle;\n",
       "    }\n",
       "\n",
       "    .dataframe tbody tr th {\n",
       "        vertical-align: top;\n",
       "    }\n",
       "\n",
       "    .dataframe thead th {\n",
       "        text-align: right;\n",
       "    }\n",
       "</style>\n",
       "<table border=\"1\" class=\"dataframe\">\n",
       "  <thead>\n",
       "    <tr style=\"text-align: right;\">\n",
       "      <th></th>\n",
       "      <th>weight</th>\n",
       "      <th>frontal</th>\n",
       "      <th>ageOFocc</th>\n",
       "      <th>yearacc</th>\n",
       "      <th>yearVeh</th>\n",
       "      <th>deploy</th>\n",
       "    </tr>\n",
       "  </thead>\n",
       "  <tbody>\n",
       "    <tr>\n",
       "      <th>0</th>\n",
       "      <td>18.895</td>\n",
       "      <td>0</td>\n",
       "      <td>25</td>\n",
       "      <td>2002</td>\n",
       "      <td>2000.0</td>\n",
       "      <td>1</td>\n",
       "    </tr>\n",
       "    <tr>\n",
       "      <th>1</th>\n",
       "      <td>266.532</td>\n",
       "      <td>1</td>\n",
       "      <td>28</td>\n",
       "      <td>2001</td>\n",
       "      <td>1991.0</td>\n",
       "      <td>0</td>\n",
       "    </tr>\n",
       "    <tr>\n",
       "      <th>2</th>\n",
       "      <td>51.810</td>\n",
       "      <td>1</td>\n",
       "      <td>36</td>\n",
       "      <td>1999</td>\n",
       "      <td>1994.0</td>\n",
       "      <td>1</td>\n",
       "    </tr>\n",
       "    <tr>\n",
       "      <th>3</th>\n",
       "      <td>1567.626</td>\n",
       "      <td>0</td>\n",
       "      <td>24</td>\n",
       "      <td>2002</td>\n",
       "      <td>1994.0</td>\n",
       "      <td>0</td>\n",
       "    </tr>\n",
       "    <tr>\n",
       "      <th>4</th>\n",
       "      <td>31.342</td>\n",
       "      <td>1</td>\n",
       "      <td>46</td>\n",
       "      <td>1997</td>\n",
       "      <td>1990.0</td>\n",
       "      <td>0</td>\n",
       "    </tr>\n",
       "  </tbody>\n",
       "</table>\n",
       "</div>"
      ],
      "text/plain": [
       "     weight  frontal  ageOFocc  yearacc  yearVeh  deploy\n",
       "0    18.895        0        25     2002   2000.0       1\n",
       "1   266.532        1        28     2001   1991.0       0\n",
       "2    51.810        1        36     1999   1994.0       1\n",
       "3  1567.626        0        24     2002   1994.0       0\n",
       "4    31.342        1        46     1997   1990.0       0"
      ]
     },
     "execution_count": 9,
     "metadata": {},
     "output_type": "execute_result"
    }
   ],
   "source": [
    "#visualizando apenas itens numéricos\n",
    "carcrash.select_dtypes(include='number').head() "
   ]
  },
  {
   "cell_type": "code",
   "execution_count": 12,
   "id": "e69d49c1",
   "metadata": {},
   "outputs": [
    {
     "data": {
      "text/plain": [
       "dvcat       8652\n",
       "weight      8652\n",
       "dead        8652\n",
       "airbag      8652\n",
       "seatbelt    8652\n",
       "frontal     8652\n",
       "sex         8652\n",
       "ageOFocc    8652\n",
       "yearacc     8652\n",
       "yearVeh     8651\n",
       "abcat       8652\n",
       "occRole     8652\n",
       "deploy      8652\n",
       "caseid      8652\n",
       "ageGroup    8652\n",
       "dtype: int64"
      ]
     },
     "execution_count": 12,
     "metadata": {},
     "output_type": "execute_result"
    }
   ],
   "source": [
    "#CONTAGEM DE DADOS - APENAS ANO DO VEÍCULO TEM UM DADO EM BRANCO\n",
    "carcrash.count()"
   ]
  },
  {
   "cell_type": "code",
   "execution_count": 21,
   "id": "5c65b436",
   "metadata": {},
   "outputs": [
    {
     "data": {
      "text/plain": [
       "m    4632\n",
       "f    4020\n",
       "Name: sex, dtype: int64"
      ]
     },
     "execution_count": 21,
     "metadata": {},
     "output_type": "execute_result"
    }
   ],
   "source": [
    "## HIPÓTESES\n",
    "\n",
    "# Mulher se envolve em menos acidentes\n",
    "carcrash['sex'].value_counts()\n",
    "\n",
    "# Cinto reduz acidentes fatais\n",
    "\n",
    "# Pessoas mais novas são mais imprudentes\n",
    "\n",
    "# Altas velocidades causam mais acidentes"
   ]
  },
  {
   "cell_type": "code",
   "execution_count": 24,
   "id": "f34f5763",
   "metadata": {},
   "outputs": [
    {
     "data": {
      "image/png": "[encoded data removed]",
      "text/plain": [
       "<Figure size 432x288 with 1 Axes>"
      ]
     },
     "metadata": {
      "needs_background": "light"
     },
     "output_type": "display_data"
    }
   ],
   "source": [
    "#Envolvimento de Homens x Mulheres em acidentes\n",
    "sns.countplot(data = carcrash, x='sex')\n",
    "plt.show()"
   ]
  },
  {
   "cell_type": "code",
   "execution_count": 18,
   "id": "91248b79",
   "metadata": {
    "scrolled": true
   },
   "outputs": [
    {
     "data": {
      "text/plain": [
       "<AxesSubplot:xlabel='sex', ylabel='count'>"
      ]
     },
     "execution_count": 18,
     "metadata": {},
     "output_type": "execute_result"
    },
    {
     "data": {
      "image/png": "[encoded data removed]",
      "text/plain": [
       "<Figure size 432x288 with 1 Axes>"
      ]
     },
     "metadata": {
      "needs_background": "light"
     },
     "output_type": "display_data"
    }
   ],
   "source": [
    "## Envolvimento de Mulheres x Homens em acidentes - Como motoristas\n",
    "\n",
    "sns.countplot(x=\"sex\", hue=\"occRole\", data=carcrash)"
   ]
  },
  {
   "cell_type": "code",
   "execution_count": 26,
   "id": "ccd5f3eb",
   "metadata": {},
   "outputs": [
    {
     "data": {
      "image/png": "[encoded data removed]",
      "text/plain": [
       "<Figure size 464.2x288 with 2 Axes>"
      ]
     },
     "metadata": {
      "needs_background": "light"
     },
     "output_type": "display_data"
    }
   ],
   "source": [
    "## Envolvimento de Mulheres x Homens em acidentes x mortes x motorista ou não\n",
    "\n",
    "sns.catplot(x=\"occRole\", hue=\"dead\", col=\"sex\",\n",
    "                data=carcrash, kind=\"count\",\n",
    "                height=4, aspect=.7);"
   ]
  },
  {
   "cell_type": "code",
   "execution_count": 14,
   "id": "ae2bb876",
   "metadata": {},
   "outputs": [
    {
     "data": {
      "text/plain": [
       "<seaborn.axisgrid.FacetGrid at 0x223a74dbcd0>"
      ]
     },
     "execution_count": 14,
     "metadata": {},
     "output_type": "execute_result"
    },
    {
     "data": {
      "image/png": "[encoded data removed]",
      "text/plain": [
       "<Figure size 425.5x360 with 1 Axes>"
      ]
     },
     "metadata": {
      "needs_background": "light"
     },
     "output_type": "display_data"
    }
   ],
   "source": [
    "# idade dos acidentados x taxa de mortalidade x motorista ou não\n",
    "\n",
    "sns.catplot(x=\"dead\", y='ageOFocc', hue=\"occRole\", kind=\"bar\", data=carcrash)"
   ]
  },
  {
   "cell_type": "code",
   "execution_count": 25,
   "id": "46c649a0",
   "metadata": {},
   "outputs": [
    {
     "data": {
      "text/plain": [
       "<seaborn.axisgrid.FacetGrid at 0x223ad1ea8b0>"
      ]
     },
     "execution_count": 25,
     "metadata": {},
     "output_type": "execute_result"
    },
    {
     "data": {
      "image/png": "[encoded data removed]",
      "text/plain": [
       "<Figure size 360x360 with 1 Axes>"
      ]
     },
     "metadata": {
      "needs_background": "light"
     },
     "output_type": "display_data"
    }
   ],
   "source": [
    "# contagem de pessoas de cinto\n",
    "sns.catplot(x=\"seatbelt\", kind=\"count\", data=carcrash)"
   ]
  },
  {
   "cell_type": "code",
   "execution_count": 16,
   "id": "a978d322",
   "metadata": {},
   "outputs": [
    {
     "data": {
      "text/plain": [
       "<seaborn.axisgrid.FacetGrid at 0x223ac5eaf10>"
      ]
     },
     "execution_count": 16,
     "metadata": {},
     "output_type": "execute_result"
    },
    {
     "data": {
      "image/png": "[encoded data removed]",
      "text/plain": [
       "<Figure size 421x360 with 1 Axes>"
      ]
     },
     "metadata": {
      "needs_background": "light"
     },
     "output_type": "display_data"
    }
   ],
   "source": [
    "## CINTO REDUZ A CHANCE DE ACIDENTES FATAIS = comprovado\n",
    "\n",
    "sns.catplot(y=\"seatbelt\", hue=\"dead\", kind=\"count\",\n",
    "            palette=\"pastel\", edgecolor=\".6\",\n",
    "            data=carcrash)"
   ]
  },
  {
   "cell_type": "code",
   "execution_count": 20,
   "id": "c075065b",
   "metadata": {},
   "outputs": [
    {
     "data": {
      "text/plain": [
       "<seaborn.axisgrid.FacetGrid at 0x223ad0810d0>"
      ]
     },
     "execution_count": 20,
     "metadata": {},
     "output_type": "execute_result"
    },
    {
     "data": {
      "image/png": "[encoded data removed]",
      "text/plain": [
       "<Figure size 427.625x360 with 1 Axes>"
      ]
     },
     "metadata": {
      "needs_background": "light"
     },
     "output_type": "display_data"
    }
   ],
   "source": [
    "## Jovens são mais imprudentes = quanto ao cinto de segurança essa afirmativa é verdadeira\n",
    "\n",
    "sns.catplot(y=\"ageGroup\", hue=\"seatbelt\", kind=\"count\",\n",
    "            palette=\"pastel\", edgecolor=\".6\",\n",
    "            data=carcrash)"
   ]
  },
  {
   "cell_type": "code",
   "execution_count": 22,
   "id": "85a0e1cb",
   "metadata": {},
   "outputs": [
    {
     "data": {
      "text/plain": [
       "2002    1574\n",
       "1999    1503\n",
       "1998    1464\n",
       "2000    1453\n",
       "2001    1340\n",
       "1997    1318\n",
       "Name: yearacc, dtype: int64"
      ]
     },
     "execution_count": 22,
     "metadata": {},
     "output_type": "execute_result"
    }
   ],
   "source": [
    "carcrash['yearacc'].value_counts()"
   ]
  },
  {
   "cell_type": "code",
   "execution_count": 23,
   "id": "4f6f48d2",
   "metadata": {},
   "outputs": [
    {
     "data": {
      "text/plain": [
       "<seaborn.axisgrid.FacetGrid at 0x223ad1fff10>"
      ]
     },
     "execution_count": 23,
     "metadata": {},
     "output_type": "execute_result"
    },
    {
     "data": {
      "image/png": "[encoded data removed]",
      "text/plain": [
       "<Figure size 360x360 with 1 Axes>"
      ]
     },
     "metadata": {
      "needs_background": "light"
     },
     "output_type": "display_data"
    }
   ],
   "source": [
    "## ACIDENTES POR ANO\n",
    "\n",
    "sns.catplot(x=\"yearacc\", kind=\"count\", data=carcrash)"
   ]
  }
 ],
 "metadata": {
  "kernelspec": {
   "display_name": "Python 3 (ipykernel)",
   "language": "python",
   "name": "python3"
  },
  "language_info": {
   "codemirror_mode": {
    "name": "ipython",
    "version": 3
   },
   "file_extension": ".py",
   "mimetype": "text/x-python",
   "name": "python",
   "nbconvert_exporter": "python",
   "pygments_lexer": "ipython3",
   "version": "3.9.7"
  }
 },
 "nbformat": 4,
 "nbformat_minor": 5
}
