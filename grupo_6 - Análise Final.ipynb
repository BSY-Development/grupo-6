{
 "cells": [
  {
   "cell_type": "code",
   "execution_count": 2,
   "id": "92812004",
   "metadata": {},
   "outputs": [],
   "source": [
    "import pandas as pd\n",
    "import numpy as np\n",
    "import seaborn as sns\n",
    "import matplotlib.pyplot as plt\n",
    "import sys"
   ]
  },
  {
   "cell_type": "code",
   "execution_count": 3,
   "id": "f91254d7",
   "metadata": {},
   "outputs": [
    {
     "data": {
      "text/html": [
       "<div>\n",
       "<style scoped>\n",
       "    .dataframe tbody tr th:only-of-type {\n",
       "        vertical-align: middle;\n",
       "    }\n",
       "\n",
       "    .dataframe tbody tr th {\n",
       "        vertical-align: top;\n",
       "    }\n",
       "\n",
       "    .dataframe thead th {\n",
       "        text-align: right;\n",
       "    }\n",
       "</style>\n",
       "<table border=\"1\" class=\"dataframe\">\n",
       "  <thead>\n",
       "    <tr style=\"text-align: right;\">\n",
       "      <th></th>\n",
       "      <th>dvcat</th>\n",
       "      <th>weight</th>\n",
       "      <th>dead</th>\n",
       "      <th>airbag</th>\n",
       "      <th>seatbelt</th>\n",
       "      <th>frontal</th>\n",
       "      <th>sex</th>\n",
       "      <th>ageOFocc</th>\n",
       "      <th>yearacc</th>\n",
       "      <th>yearVeh</th>\n",
       "      <th>abcat</th>\n",
       "      <th>occRole</th>\n",
       "      <th>deploy</th>\n",
       "      <th>caseid</th>\n",
       "    </tr>\n",
       "  </thead>\n",
       "  <tbody>\n",
       "    <tr>\n",
       "      <th>0</th>\n",
       "      <td>40-54</td>\n",
       "      <td>18.895</td>\n",
       "      <td>alive</td>\n",
       "      <td>airbag</td>\n",
       "      <td>belted</td>\n",
       "      <td>0</td>\n",
       "      <td>m</td>\n",
       "      <td>25</td>\n",
       "      <td>2002</td>\n",
       "      <td>2000.0</td>\n",
       "      <td>deploy</td>\n",
       "      <td>pass</td>\n",
       "      <td>1</td>\n",
       "      <td>81:99:1</td>\n",
       "    </tr>\n",
       "    <tr>\n",
       "      <th>1</th>\n",
       "      <td>25-39</td>\n",
       "      <td>266.532</td>\n",
       "      <td>alive</td>\n",
       "      <td>none</td>\n",
       "      <td>none</td>\n",
       "      <td>1</td>\n",
       "      <td>f</td>\n",
       "      <td>28</td>\n",
       "      <td>2001</td>\n",
       "      <td>1991.0</td>\n",
       "      <td>unavail</td>\n",
       "      <td>driver</td>\n",
       "      <td>0</td>\n",
       "      <td>76:12:2</td>\n",
       "    </tr>\n",
       "    <tr>\n",
       "      <th>2</th>\n",
       "      <td>25-39</td>\n",
       "      <td>51.810</td>\n",
       "      <td>alive</td>\n",
       "      <td>airbag</td>\n",
       "      <td>belted</td>\n",
       "      <td>1</td>\n",
       "      <td>f</td>\n",
       "      <td>36</td>\n",
       "      <td>1999</td>\n",
       "      <td>1994.0</td>\n",
       "      <td>deploy</td>\n",
       "      <td>driver</td>\n",
       "      <td>1</td>\n",
       "      <td>78:53:2</td>\n",
       "    </tr>\n",
       "    <tr>\n",
       "      <th>3</th>\n",
       "      <td>10-24</td>\n",
       "      <td>1567.626</td>\n",
       "      <td>alive</td>\n",
       "      <td>airbag</td>\n",
       "      <td>belted</td>\n",
       "      <td>0</td>\n",
       "      <td>f</td>\n",
       "      <td>24</td>\n",
       "      <td>2002</td>\n",
       "      <td>1994.0</td>\n",
       "      <td>nodeploy</td>\n",
       "      <td>driver</td>\n",
       "      <td>0</td>\n",
       "      <td>11:47:1</td>\n",
       "    </tr>\n",
       "    <tr>\n",
       "      <th>4</th>\n",
       "      <td>25-39</td>\n",
       "      <td>31.342</td>\n",
       "      <td>alive</td>\n",
       "      <td>none</td>\n",
       "      <td>none</td>\n",
       "      <td>1</td>\n",
       "      <td>f</td>\n",
       "      <td>46</td>\n",
       "      <td>1997</td>\n",
       "      <td>1990.0</td>\n",
       "      <td>unavail</td>\n",
       "      <td>pass</td>\n",
       "      <td>0</td>\n",
       "      <td>12:87:2</td>\n",
       "    </tr>\n",
       "  </tbody>\n",
       "</table>\n",
       "</div>"
      ],
      "text/plain": [
       "   dvcat    weight   dead  airbag seatbelt  frontal sex  ageOFocc  yearacc  \\\n",
       "0  40-54    18.895  alive  airbag   belted        0   m        25     2002   \n",
       "1  25-39   266.532  alive    none     none        1   f        28     2001   \n",
       "2  25-39    51.810  alive  airbag   belted        1   f        36     1999   \n",
       "3  10-24  1567.626  alive  airbag   belted        0   f        24     2002   \n",
       "4  25-39    31.342  alive    none     none        1   f        46     1997   \n",
       "\n",
       "   yearVeh     abcat occRole  deploy   caseid  \n",
       "0   2000.0    deploy    pass       1  81:99:1  \n",
       "1   1991.0   unavail  driver       0  76:12:2  \n",
       "2   1994.0    deploy  driver       1  78:53:2  \n",
       "3   1994.0  nodeploy  driver       0  11:47:1  \n",
       "4   1990.0   unavail    pass       0  12:87:2  "
      ]
     },
     "execution_count": 3,
     "metadata": {},
     "output_type": "execute_result"
    }
   ],
   "source": [
    "car_crashes = pd.read_csv('Dataset/car_crashes.csv')\n",
    "car_crashes.head()"
   ]
  },
  {
   "cell_type": "code",
   "execution_count": 57,
   "id": "fbaa08e3",
   "metadata": {},
   "outputs": [],
   "source": [
    "car_crashes['ageGroup']=pd.cut(\n",
    "   car_crashes['ageOFocc'],\n",
    "   bins=[0, 25, 40, 60, sys.maxsize],\n",
    "   labels=['<= 24', '25 - 39', '40 - 59', '>= 60'])"
   ]
  },
  {
   "cell_type": "code",
   "execution_count": 58,
   "id": "ba33bbdf",
   "metadata": {},
   "outputs": [
    {
     "data": {
      "text/html": [
       "<div>\n",
       "<style scoped>\n",
       "    .dataframe tbody tr th:only-of-type {\n",
       "        vertical-align: middle;\n",
       "    }\n",
       "\n",
       "    .dataframe tbody tr th {\n",
       "        vertical-align: top;\n",
       "    }\n",
       "\n",
       "    .dataframe thead th {\n",
       "        text-align: right;\n",
       "    }\n",
       "</style>\n",
       "<table border=\"1\" class=\"dataframe\">\n",
       "  <thead>\n",
       "    <tr style=\"text-align: right;\">\n",
       "      <th></th>\n",
       "      <th>dvcat</th>\n",
       "      <th>weight</th>\n",
       "      <th>dead</th>\n",
       "      <th>airbag</th>\n",
       "      <th>seatbelt</th>\n",
       "      <th>frontal</th>\n",
       "      <th>sex</th>\n",
       "      <th>ageOFocc</th>\n",
       "      <th>yearacc</th>\n",
       "      <th>yearVeh</th>\n",
       "      <th>abcat</th>\n",
       "      <th>occRole</th>\n",
       "      <th>deploy</th>\n",
       "      <th>caseid</th>\n",
       "      <th>ageGroup</th>\n",
       "    </tr>\n",
       "  </thead>\n",
       "  <tbody>\n",
       "    <tr>\n",
       "      <th>0</th>\n",
       "      <td>40-54</td>\n",
       "      <td>18.895</td>\n",
       "      <td>alive</td>\n",
       "      <td>airbag</td>\n",
       "      <td>belted</td>\n",
       "      <td>0</td>\n",
       "      <td>m</td>\n",
       "      <td>25</td>\n",
       "      <td>2002</td>\n",
       "      <td>2000.0</td>\n",
       "      <td>deploy</td>\n",
       "      <td>pass</td>\n",
       "      <td>1</td>\n",
       "      <td>81:99:1</td>\n",
       "      <td>&lt;= 24</td>\n",
       "    </tr>\n",
       "    <tr>\n",
       "      <th>1</th>\n",
       "      <td>25-39</td>\n",
       "      <td>266.532</td>\n",
       "      <td>alive</td>\n",
       "      <td>none</td>\n",
       "      <td>none</td>\n",
       "      <td>1</td>\n",
       "      <td>f</td>\n",
       "      <td>28</td>\n",
       "      <td>2001</td>\n",
       "      <td>1991.0</td>\n",
       "      <td>unavail</td>\n",
       "      <td>driver</td>\n",
       "      <td>0</td>\n",
       "      <td>76:12:2</td>\n",
       "      <td>25 - 39</td>\n",
       "    </tr>\n",
       "    <tr>\n",
       "      <th>2</th>\n",
       "      <td>25-39</td>\n",
       "      <td>51.810</td>\n",
       "      <td>alive</td>\n",
       "      <td>airbag</td>\n",
       "      <td>belted</td>\n",
       "      <td>1</td>\n",
       "      <td>f</td>\n",
       "      <td>36</td>\n",
       "      <td>1999</td>\n",
       "      <td>1994.0</td>\n",
       "      <td>deploy</td>\n",
       "      <td>driver</td>\n",
       "      <td>1</td>\n",
       "      <td>78:53:2</td>\n",
       "      <td>25 - 39</td>\n",
       "    </tr>\n",
       "    <tr>\n",
       "      <th>3</th>\n",
       "      <td>10-24</td>\n",
       "      <td>1567.626</td>\n",
       "      <td>alive</td>\n",
       "      <td>airbag</td>\n",
       "      <td>belted</td>\n",
       "      <td>0</td>\n",
       "      <td>f</td>\n",
       "      <td>24</td>\n",
       "      <td>2002</td>\n",
       "      <td>1994.0</td>\n",
       "      <td>nodeploy</td>\n",
       "      <td>driver</td>\n",
       "      <td>0</td>\n",
       "      <td>11:47:1</td>\n",
       "      <td>&lt;= 24</td>\n",
       "    </tr>\n",
       "    <tr>\n",
       "      <th>4</th>\n",
       "      <td>25-39</td>\n",
       "      <td>31.342</td>\n",
       "      <td>alive</td>\n",
       "      <td>none</td>\n",
       "      <td>none</td>\n",
       "      <td>1</td>\n",
       "      <td>f</td>\n",
       "      <td>46</td>\n",
       "      <td>1997</td>\n",
       "      <td>1990.0</td>\n",
       "      <td>unavail</td>\n",
       "      <td>pass</td>\n",
       "      <td>0</td>\n",
       "      <td>12:87:2</td>\n",
       "      <td>40 - 59</td>\n",
       "    </tr>\n",
       "    <tr>\n",
       "      <th>...</th>\n",
       "      <td>...</td>\n",
       "      <td>...</td>\n",
       "      <td>...</td>\n",
       "      <td>...</td>\n",
       "      <td>...</td>\n",
       "      <td>...</td>\n",
       "      <td>...</td>\n",
       "      <td>...</td>\n",
       "      <td>...</td>\n",
       "      <td>...</td>\n",
       "      <td>...</td>\n",
       "      <td>...</td>\n",
       "      <td>...</td>\n",
       "      <td>...</td>\n",
       "      <td>...</td>\n",
       "    </tr>\n",
       "    <tr>\n",
       "      <th>8647</th>\n",
       "      <td>10-24</td>\n",
       "      <td>64.757</td>\n",
       "      <td>alive</td>\n",
       "      <td>airbag</td>\n",
       "      <td>none</td>\n",
       "      <td>0</td>\n",
       "      <td>m</td>\n",
       "      <td>37</td>\n",
       "      <td>2001</td>\n",
       "      <td>1999.0</td>\n",
       "      <td>nodeploy</td>\n",
       "      <td>driver</td>\n",
       "      <td>0</td>\n",
       "      <td>6:71:2</td>\n",
       "      <td>25 - 39</td>\n",
       "    </tr>\n",
       "    <tr>\n",
       "      <th>8648</th>\n",
       "      <td>1-9km/h</td>\n",
       "      <td>178.651</td>\n",
       "      <td>alive</td>\n",
       "      <td>airbag</td>\n",
       "      <td>none</td>\n",
       "      <td>1</td>\n",
       "      <td>f</td>\n",
       "      <td>16</td>\n",
       "      <td>2001</td>\n",
       "      <td>2001.0</td>\n",
       "      <td>deploy</td>\n",
       "      <td>pass</td>\n",
       "      <td>1</td>\n",
       "      <td>76:57:2</td>\n",
       "      <td>&lt;= 24</td>\n",
       "    </tr>\n",
       "    <tr>\n",
       "      <th>8649</th>\n",
       "      <td>25-39</td>\n",
       "      <td>482.272</td>\n",
       "      <td>alive</td>\n",
       "      <td>airbag</td>\n",
       "      <td>belted</td>\n",
       "      <td>1</td>\n",
       "      <td>m</td>\n",
       "      <td>16</td>\n",
       "      <td>1997</td>\n",
       "      <td>1992.0</td>\n",
       "      <td>deploy</td>\n",
       "      <td>driver</td>\n",
       "      <td>1</td>\n",
       "      <td>74:65:1</td>\n",
       "      <td>&lt;= 24</td>\n",
       "    </tr>\n",
       "    <tr>\n",
       "      <th>8650</th>\n",
       "      <td>55+</td>\n",
       "      <td>32.467</td>\n",
       "      <td>alive</td>\n",
       "      <td>none</td>\n",
       "      <td>belted</td>\n",
       "      <td>1</td>\n",
       "      <td>m</td>\n",
       "      <td>26</td>\n",
       "      <td>1998</td>\n",
       "      <td>1994.0</td>\n",
       "      <td>unavail</td>\n",
       "      <td>driver</td>\n",
       "      <td>0</td>\n",
       "      <td>12:4:2</td>\n",
       "      <td>25 - 39</td>\n",
       "    </tr>\n",
       "    <tr>\n",
       "      <th>8651</th>\n",
       "      <td>40-54</td>\n",
       "      <td>10.800</td>\n",
       "      <td>dead</td>\n",
       "      <td>none</td>\n",
       "      <td>none</td>\n",
       "      <td>0</td>\n",
       "      <td>m</td>\n",
       "      <td>73</td>\n",
       "      <td>1998</td>\n",
       "      <td>1989.0</td>\n",
       "      <td>unavail</td>\n",
       "      <td>driver</td>\n",
       "      <td>0</td>\n",
       "      <td>4:32:1</td>\n",
       "      <td>&gt;= 60</td>\n",
       "    </tr>\n",
       "  </tbody>\n",
       "</table>\n",
       "<p>8652 rows × 15 columns</p>\n",
       "</div>"
      ],
      "text/plain": [
       "        dvcat    weight   dead  airbag seatbelt  frontal sex  ageOFocc  \\\n",
       "0       40-54    18.895  alive  airbag   belted        0   m        25   \n",
       "1       25-39   266.532  alive    none     none        1   f        28   \n",
       "2       25-39    51.810  alive  airbag   belted        1   f        36   \n",
       "3       10-24  1567.626  alive  airbag   belted        0   f        24   \n",
       "4       25-39    31.342  alive    none     none        1   f        46   \n",
       "...       ...       ...    ...     ...      ...      ...  ..       ...   \n",
       "8647    10-24    64.757  alive  airbag     none        0   m        37   \n",
       "8648  1-9km/h   178.651  alive  airbag     none        1   f        16   \n",
       "8649    25-39   482.272  alive  airbag   belted        1   m        16   \n",
       "8650      55+    32.467  alive    none   belted        1   m        26   \n",
       "8651    40-54    10.800   dead    none     none        0   m        73   \n",
       "\n",
       "      yearacc  yearVeh     abcat occRole  deploy   caseid ageGroup  \n",
       "0        2002   2000.0    deploy    pass       1  81:99:1    <= 24  \n",
       "1        2001   1991.0   unavail  driver       0  76:12:2  25 - 39  \n",
       "2        1999   1994.0    deploy  driver       1  78:53:2  25 - 39  \n",
       "3        2002   1994.0  nodeploy  driver       0  11:47:1    <= 24  \n",
       "4        1997   1990.0   unavail    pass       0  12:87:2  40 - 59  \n",
       "...       ...      ...       ...     ...     ...      ...      ...  \n",
       "8647     2001   1999.0  nodeploy  driver       0   6:71:2  25 - 39  \n",
       "8648     2001   2001.0    deploy    pass       1  76:57:2    <= 24  \n",
       "8649     1997   1992.0    deploy  driver       1  74:65:1    <= 24  \n",
       "8650     1998   1994.0   unavail  driver       0   12:4:2  25 - 39  \n",
       "8651     1998   1989.0   unavail  driver       0   4:32:1    >= 60  \n",
       "\n",
       "[8652 rows x 15 columns]"
      ]
     },
     "execution_count": 58,
     "metadata": {},
     "output_type": "execute_result"
    }
   ],
   "source": [
    "car_crashes"
   ]
  },
  {
   "cell_type": "code",
   "execution_count": 32,
   "id": "e5f2f1b1",
   "metadata": {},
   "outputs": [
    {
     "name": "stdout",
     "output_type": "stream",
     "text": [
      "<class 'pandas.core.frame.DataFrame'>\n",
      "RangeIndex: 8652 entries, 0 to 8651\n",
      "Data columns (total 15 columns):\n",
      " #   Column    Non-Null Count  Dtype   \n",
      "---  ------    --------------  -----   \n",
      " 0   dvcat     8652 non-null   object  \n",
      " 1   weight    8652 non-null   float64 \n",
      " 2   dead      8652 non-null   object  \n",
      " 3   airbag    8652 non-null   object  \n",
      " 4   seatbelt  8652 non-null   object  \n",
      " 5   frontal   8652 non-null   int64   \n",
      " 6   sex       8652 non-null   object  \n",
      " 7   ageOFocc  8652 non-null   int64   \n",
      " 8   yearacc   8652 non-null   int64   \n",
      " 9   yearVeh   8651 non-null   float64 \n",
      " 10  abcat     8652 non-null   object  \n",
      " 11  occRole   8652 non-null   object  \n",
      " 12  deploy    8652 non-null   int64   \n",
      " 13  caseid    8652 non-null   object  \n",
      " 14  ageGroup  8652 non-null   category\n",
      "dtypes: category(1), float64(2), int64(4), object(8)\n",
      "memory usage: 955.1+ KB\n"
     ]
    }
   ],
   "source": [
    "# Informações Gerais\n",
    "\n",
    "car_crashes.info()"
   ]
  },
  {
   "cell_type": "code",
   "execution_count": 59,
   "id": "b6e997ce",
   "metadata": {},
   "outputs": [
    {
     "data": {
      "text/html": [
       "<div>\n",
       "<style scoped>\n",
       "    .dataframe tbody tr th:only-of-type {\n",
       "        vertical-align: middle;\n",
       "    }\n",
       "\n",
       "    .dataframe tbody tr th {\n",
       "        vertical-align: top;\n",
       "    }\n",
       "\n",
       "    .dataframe thead th {\n",
       "        text-align: right;\n",
       "    }\n",
       "</style>\n",
       "<table border=\"1\" class=\"dataframe\">\n",
       "  <thead>\n",
       "    <tr style=\"text-align: right;\">\n",
       "      <th></th>\n",
       "      <th>weight</th>\n",
       "      <th>frontal</th>\n",
       "      <th>ageOFocc</th>\n",
       "      <th>yearacc</th>\n",
       "      <th>yearVeh</th>\n",
       "      <th>deploy</th>\n",
       "    </tr>\n",
       "  </thead>\n",
       "  <tbody>\n",
       "    <tr>\n",
       "      <th>count</th>\n",
       "      <td>8652.000000</td>\n",
       "      <td>8652.000000</td>\n",
       "      <td>8652.000000</td>\n",
       "      <td>8652.000000</td>\n",
       "      <td>8651.000000</td>\n",
       "      <td>8652.000000</td>\n",
       "    </tr>\n",
       "    <tr>\n",
       "      <th>mean</th>\n",
       "      <td>471.030930</td>\n",
       "      <td>0.643088</td>\n",
       "      <td>37.193597</td>\n",
       "      <td>1999.549584</td>\n",
       "      <td>1992.725118</td>\n",
       "      <td>0.330675</td>\n",
       "    </tr>\n",
       "    <tr>\n",
       "      <th>std</th>\n",
       "      <td>1628.476678</td>\n",
       "      <td>0.479116</td>\n",
       "      <td>17.837210</td>\n",
       "      <td>1.703408</td>\n",
       "      <td>5.647203</td>\n",
       "      <td>0.470483</td>\n",
       "    </tr>\n",
       "    <tr>\n",
       "      <th>min</th>\n",
       "      <td>0.000000</td>\n",
       "      <td>0.000000</td>\n",
       "      <td>16.000000</td>\n",
       "      <td>1997.000000</td>\n",
       "      <td>1956.000000</td>\n",
       "      <td>0.000000</td>\n",
       "    </tr>\n",
       "    <tr>\n",
       "      <th>25%</th>\n",
       "      <td>32.824000</td>\n",
       "      <td>0.000000</td>\n",
       "      <td>22.000000</td>\n",
       "      <td>1998.000000</td>\n",
       "      <td>1989.000000</td>\n",
       "      <td>0.000000</td>\n",
       "    </tr>\n",
       "    <tr>\n",
       "      <th>50%</th>\n",
       "      <td>87.586000</td>\n",
       "      <td>1.000000</td>\n",
       "      <td>33.000000</td>\n",
       "      <td>2000.000000</td>\n",
       "      <td>1994.000000</td>\n",
       "      <td>0.000000</td>\n",
       "    </tr>\n",
       "    <tr>\n",
       "      <th>75%</th>\n",
       "      <td>375.368000</td>\n",
       "      <td>1.000000</td>\n",
       "      <td>47.000000</td>\n",
       "      <td>2001.000000</td>\n",
       "      <td>1997.000000</td>\n",
       "      <td>1.000000</td>\n",
       "    </tr>\n",
       "    <tr>\n",
       "      <th>max</th>\n",
       "      <td>57871.595000</td>\n",
       "      <td>1.000000</td>\n",
       "      <td>97.000000</td>\n",
       "      <td>2002.000000</td>\n",
       "      <td>2003.000000</td>\n",
       "      <td>1.000000</td>\n",
       "    </tr>\n",
       "  </tbody>\n",
       "</table>\n",
       "</div>"
      ],
      "text/plain": [
       "             weight      frontal     ageOFocc      yearacc      yearVeh  \\\n",
       "count   8652.000000  8652.000000  8652.000000  8652.000000  8651.000000   \n",
       "mean     471.030930     0.643088    37.193597  1999.549584  1992.725118   \n",
       "std     1628.476678     0.479116    17.837210     1.703408     5.647203   \n",
       "min        0.000000     0.000000    16.000000  1997.000000  1956.000000   \n",
       "25%       32.824000     0.000000    22.000000  1998.000000  1989.000000   \n",
       "50%       87.586000     1.000000    33.000000  2000.000000  1994.000000   \n",
       "75%      375.368000     1.000000    47.000000  2001.000000  1997.000000   \n",
       "max    57871.595000     1.000000    97.000000  2002.000000  2003.000000   \n",
       "\n",
       "            deploy  \n",
       "count  8652.000000  \n",
       "mean      0.330675  \n",
       "std       0.470483  \n",
       "min       0.000000  \n",
       "25%       0.000000  \n",
       "50%       0.000000  \n",
       "75%       1.000000  \n",
       "max       1.000000  "
      ]
     },
     "execution_count": 59,
     "metadata": {},
     "output_type": "execute_result"
    }
   ],
   "source": [
    "# Descrições Numéricas\n",
    "\n",
    "car_crashes.describe()"
   ]
  },
  {
   "cell_type": "code",
   "execution_count": 60,
   "id": "838709f1",
   "metadata": {},
   "outputs": [
    {
     "data": {
      "text/plain": [
       "dvcat         object\n",
       "weight       float64\n",
       "dead          object\n",
       "airbag        object\n",
       "seatbelt      object\n",
       "frontal        int64\n",
       "sex           object\n",
       "ageOFocc       int64\n",
       "yearacc        int64\n",
       "yearVeh      float64\n",
       "abcat         object\n",
       "occRole       object\n",
       "deploy         int64\n",
       "caseid        object\n",
       "ageGroup    category\n",
       "dtype: object"
      ]
     },
     "execution_count": 60,
     "metadata": {},
     "output_type": "execute_result"
    }
   ],
   "source": [
    "# Tipos de dados \n",
    "\n",
    "car_crashes.dtypes"
   ]
  },
  {
   "cell_type": "code",
   "execution_count": 61,
   "id": "8a043e53",
   "metadata": {},
   "outputs": [
    {
     "data": {
      "text/html": [
       "<div>\n",
       "<style scoped>\n",
       "    .dataframe tbody tr th:only-of-type {\n",
       "        vertical-align: middle;\n",
       "    }\n",
       "\n",
       "    .dataframe tbody tr th {\n",
       "        vertical-align: top;\n",
       "    }\n",
       "\n",
       "    .dataframe thead th {\n",
       "        text-align: right;\n",
       "    }\n",
       "</style>\n",
       "<table border=\"1\" class=\"dataframe\">\n",
       "  <thead>\n",
       "    <tr style=\"text-align: right;\">\n",
       "      <th></th>\n",
       "      <th>weight</th>\n",
       "      <th>frontal</th>\n",
       "      <th>ageOFocc</th>\n",
       "      <th>yearacc</th>\n",
       "      <th>yearVeh</th>\n",
       "      <th>deploy</th>\n",
       "    </tr>\n",
       "  </thead>\n",
       "  <tbody>\n",
       "    <tr>\n",
       "      <th>0</th>\n",
       "      <td>18.895</td>\n",
       "      <td>0</td>\n",
       "      <td>25</td>\n",
       "      <td>2002</td>\n",
       "      <td>2000.0</td>\n",
       "      <td>1</td>\n",
       "    </tr>\n",
       "    <tr>\n",
       "      <th>1</th>\n",
       "      <td>266.532</td>\n",
       "      <td>1</td>\n",
       "      <td>28</td>\n",
       "      <td>2001</td>\n",
       "      <td>1991.0</td>\n",
       "      <td>0</td>\n",
       "    </tr>\n",
       "    <tr>\n",
       "      <th>2</th>\n",
       "      <td>51.810</td>\n",
       "      <td>1</td>\n",
       "      <td>36</td>\n",
       "      <td>1999</td>\n",
       "      <td>1994.0</td>\n",
       "      <td>1</td>\n",
       "    </tr>\n",
       "    <tr>\n",
       "      <th>3</th>\n",
       "      <td>1567.626</td>\n",
       "      <td>0</td>\n",
       "      <td>24</td>\n",
       "      <td>2002</td>\n",
       "      <td>1994.0</td>\n",
       "      <td>0</td>\n",
       "    </tr>\n",
       "    <tr>\n",
       "      <th>4</th>\n",
       "      <td>31.342</td>\n",
       "      <td>1</td>\n",
       "      <td>46</td>\n",
       "      <td>1997</td>\n",
       "      <td>1990.0</td>\n",
       "      <td>0</td>\n",
       "    </tr>\n",
       "  </tbody>\n",
       "</table>\n",
       "</div>"
      ],
      "text/plain": [
       "     weight  frontal  ageOFocc  yearacc  yearVeh  deploy\n",
       "0    18.895        0        25     2002   2000.0       1\n",
       "1   266.532        1        28     2001   1991.0       0\n",
       "2    51.810        1        36     1999   1994.0       1\n",
       "3  1567.626        0        24     2002   1994.0       0\n",
       "4    31.342        1        46     1997   1990.0       0"
      ]
     },
     "execution_count": 61,
     "metadata": {},
     "output_type": "execute_result"
    }
   ],
   "source": [
    "# Verificando quais colunas são dados numéricos\n",
    "\n",
    "car_crashes.select_dtypes(include='number').head() "
   ]
  },
  {
   "cell_type": "code",
   "execution_count": 8,
   "id": "34ec2b69",
   "metadata": {},
   "outputs": [
    {
     "data": {
      "text/plain": [
       "dvcat       0\n",
       "weight      0\n",
       "dead        0\n",
       "airbag      0\n",
       "seatbelt    0\n",
       "frontal     0\n",
       "sex         0\n",
       "ageOFocc    0\n",
       "yearacc     0\n",
       "yearVeh     1\n",
       "abcat       0\n",
       "occRole     0\n",
       "deploy      0\n",
       "caseid      0\n",
       "ageGroup    0\n",
       "dtype: int64"
      ]
     },
     "execution_count": 8,
     "metadata": {},
     "output_type": "execute_result"
    }
   ],
   "source": [
    "# Verificando se há dados vazios\n",
    "\n",
    "# Apenas a coluna de ano do veículo possui um dado vazio, esta coluna não foi necessária para nenhuma análise\n",
    "\n",
    "car_crashes.isnull().sum()"
   ]
  },
  {
   "cell_type": "code",
   "execution_count": 62,
   "id": "0f71347d",
   "metadata": {},
   "outputs": [
    {
     "data": {
      "text/plain": [
       "dvcat       8652\n",
       "weight      8652\n",
       "dead        8652\n",
       "airbag      8652\n",
       "seatbelt    8652\n",
       "frontal     8652\n",
       "sex         8652\n",
       "ageOFocc    8652\n",
       "yearacc     8652\n",
       "yearVeh     8651\n",
       "abcat       8652\n",
       "occRole     8652\n",
       "deploy      8652\n",
       "caseid      8652\n",
       "ageGroup    8652\n",
       "dtype: int64"
      ]
     },
     "execution_count": 62,
     "metadata": {},
     "output_type": "execute_result"
    }
   ],
   "source": [
    "# Contagem de dados\n",
    "\n",
    "car_crashes.count()"
   ]
  },
  {
   "cell_type": "code",
   "execution_count": 63,
   "id": "cc60b20d",
   "metadata": {},
   "outputs": [
    {
     "data": {
      "text/html": [
       "<div>\n",
       "<style scoped>\n",
       "    .dataframe tbody tr th:only-of-type {\n",
       "        vertical-align: middle;\n",
       "    }\n",
       "\n",
       "    .dataframe tbody tr th {\n",
       "        vertical-align: top;\n",
       "    }\n",
       "\n",
       "    .dataframe thead th {\n",
       "        text-align: right;\n",
       "    }\n",
       "</style>\n",
       "<table border=\"1\" class=\"dataframe\">\n",
       "  <thead>\n",
       "    <tr style=\"text-align: right;\">\n",
       "      <th></th>\n",
       "      <th>dvcat</th>\n",
       "      <th>weight</th>\n",
       "      <th>dead</th>\n",
       "      <th>airbag</th>\n",
       "      <th>seatbelt</th>\n",
       "      <th>frontal</th>\n",
       "      <th>sex</th>\n",
       "      <th>ageOFocc</th>\n",
       "      <th>yearacc</th>\n",
       "      <th>yearVeh</th>\n",
       "      <th>abcat</th>\n",
       "      <th>occRole</th>\n",
       "      <th>deploy</th>\n",
       "      <th>caseid</th>\n",
       "      <th>ageGroup</th>\n",
       "    </tr>\n",
       "  </thead>\n",
       "  <tbody>\n",
       "  </tbody>\n",
       "</table>\n",
       "</div>"
      ],
      "text/plain": [
       "Empty DataFrame\n",
       "Columns: [dvcat, weight, dead, airbag, seatbelt, frontal, sex, ageOFocc, yearacc, yearVeh, abcat, occRole, deploy, caseid, ageGroup]\n",
       "Index: []"
      ]
     },
     "execution_count": 63,
     "metadata": {},
     "output_type": "execute_result"
    }
   ],
   "source": [
    "# Verificando Duplicados\n",
    "\n",
    "car_crashes[car_crashes.duplicated()]"
   ]
  },
  {
   "cell_type": "code",
   "execution_count": 65,
   "id": "cf76dcba",
   "metadata": {},
   "outputs": [
    {
     "data": {
      "text/plain": [
       "dvcat          5\n",
       "weight      5310\n",
       "dead           2\n",
       "airbag         2\n",
       "seatbelt       2\n",
       "frontal        2\n",
       "sex            2\n",
       "ageOFocc      79\n",
       "yearacc        6\n",
       "yearVeh       40\n",
       "abcat          3\n",
       "occRole        2\n",
       "deploy         2\n",
       "caseid      5690\n",
       "ageGroup       4\n",
       "dtype: int64"
      ]
     },
     "execution_count": 65,
     "metadata": {},
     "output_type": "execute_result"
    }
   ],
   "source": [
    "# Verificando possíveis erros\n",
    "\n",
    "# Considerando que a coluna 'caseid' se refere a uma identificação do acidente, temos 5690 acidentes registrados\n",
    "\n",
    "car_crashes.nunique()"
   ]
  },
  {
   "cell_type": "code",
   "execution_count": 11,
   "id": "979a3e8e",
   "metadata": {},
   "outputs": [
    {
     "data": {
      "text/plain": [
       "6"
      ]
     },
     "execution_count": 11,
     "metadata": {},
     "output_type": "execute_result"
    }
   ],
   "source": [
    "# Verificando o máximo de pessoas envolvidas em um acidente\n",
    "\n",
    "car_crashes['caseid'].value_counts().max()"
   ]
  },
  {
   "cell_type": "code",
   "execution_count": 66,
   "id": "c1453e78",
   "metadata": {},
   "outputs": [
    {
     "data": {
      "text/plain": [
       "5"
      ]
     },
     "execution_count": 66,
     "metadata": {},
     "output_type": "execute_result"
    }
   ],
   "source": [
    "# Verificando o máximo de carros envolvidos em um acidente \n",
    "\n",
    "car_crashes[car_crashes['occRole']=='driver']['caseid'].value_counts().max()"
   ]
  },
  {
   "cell_type": "code",
   "execution_count": 55,
   "id": "e6feff5c",
   "metadata": {},
   "outputs": [
    {
     "data": {
      "text/plain": [
       "2002    1574\n",
       "1999    1503\n",
       "1998    1464\n",
       "2000    1453\n",
       "2001    1340\n",
       "1997    1318\n",
       "Name: yearacc, dtype: int64"
      ]
     },
     "execution_count": 55,
     "metadata": {},
     "output_type": "execute_result"
    }
   ],
   "source": [
    "# Verificando quantidade de acidentados por ano\n",
    "\n",
    "car_crashes['yearacc'].value_counts()"
   ]
  },
  {
   "cell_type": "code",
   "execution_count": 94,
   "id": "c263c52b",
   "metadata": {},
   "outputs": [
    {
     "data": {
      "image/png": "[encoded data removed]",
      "text/plain": [
       "<Figure size 360x360 with 1 Axes>"
      ]
     },
     "metadata": {
      "needs_background": "light"
     },
     "output_type": "display_data"
    }
   ],
   "source": [
    "sns.catplot(x=\"yearacc\", kind=\"count\", data=car_crashes)\n",
    "\n",
    "plt.title('Acidentados por ano\\n', fontsize = 15)\n",
    "\n",
    "plt.show()"
   ]
  },
  {
   "cell_type": "markdown",
   "id": "0242fd97",
   "metadata": {},
   "source": [
    "# HIPÓTESES\n",
    "\n",
    "## 1 - Mulheres são mais prudentes no trânsito;\n",
    "\n",
    "\n",
    "## 2 - Cinto de segurança ou Airbag reduzem chances de acidentes fatais;\n",
    "\n",
    "\n",
    "## 3 - Pessoas mais novas são mais imprudentes;\n",
    "\n",
    "\n",
    "## 4 - Altas velocidades causam mais acidentes.\n",
    "\n",
    "\n",
    "\n"
   ]
  },
  {
   "cell_type": "markdown",
   "id": "0b24fd97",
   "metadata": {},
   "source": [
    "## HIPÓTESE 1: Mulheres são mais prudentes no trânsito"
   ]
  },
  {
   "cell_type": "code",
   "execution_count": 89,
   "id": "d2fe65ca",
   "metadata": {},
   "outputs": [
    {
     "data": {
      "image/png": "[encoded data removed]",
      "text/plain": [
       "<Figure size 432x288 with 1 Axes>"
      ]
     },
     "metadata": {
      "needs_background": "light"
     },
     "output_type": "display_data"
    }
   ],
   "source": [
    "\n",
    "sns.countplot(data = car_crashes, x='sex')\n",
    "\n",
    "plt.title('Envolvimento de Homens x Mulheres em acidentes', fontsize = 15)\n",
    "\n",
    "plt.xlabel('Sexo', fontsize=15)\n",
    "\n",
    "plt.ylabel('Quantidade', fontsize=15)\n",
    "\n",
    "plt.grid()\n",
    "\n",
    "plt.show()"
   ]
  },
  {
   "cell_type": "code",
   "execution_count": 88,
   "id": "df6824de",
   "metadata": {},
   "outputs": [
    {
     "data": {
      "image/png": "[encoded data removed]",
      "text/plain": [
       "<Figure size 720x360 with 1 Axes>"
      ]
     },
     "metadata": {
      "needs_background": "light"
     },
     "output_type": "display_data"
    }
   ],
   "source": [
    "plt.figure(figsize = (10, 5))\n",
    "\n",
    "sns.countplot(x=\"sex\", hue=\"occRole\", data=car_crashes)\n",
    "\n",
    "plt.title('Envolvimento de Homens x Mulheres em acidentes como motoristas ou passageiros\\n', fontsize = 16)\n",
    "\n",
    "plt.xlabel('Sexo', fontsize=15)\n",
    "\n",
    "plt.ylabel('Quantidade', fontsize=15)\n",
    "\n",
    "plt.grid()\n",
    "\n",
    "plt.show()"
   ]
  },
  {
   "cell_type": "code",
   "execution_count": 117,
   "id": "0f16d277",
   "metadata": {},
   "outputs": [
    {
     "data": {
      "image/png": "[encoded data removed]",
      "text/plain": [
       "<Figure size 637x360 with 2 Axes>"
      ]
     },
     "metadata": {
      "needs_background": "light"
     },
     "output_type": "display_data"
    }
   ],
   "source": [
    "sns.catplot(x=\"occRole\", hue=\"dead\", col=\"sex\",\n",
    "                data=car_crashes, kind=\"count\",\n",
    "                height=5, aspect=.8);\n",
    "               \n",
    "plt.suptitle('Envolvimento de Homens x Mulheres em acidentes \\ncomo motoristas ou passageiros em acidentes fatais ou não \\n', fontsize = 16)\n",
    "\n",
    "plt.subplots_adjust(top=0.85)\n",
    "\n",
    "plt.show()"
   ]
  },
  {
   "cell_type": "code",
   "execution_count": 67,
   "id": "d2a4bde9",
   "metadata": {},
   "outputs": [
    {
     "data": {
      "text/plain": [
       "m    0.561847\n",
       "f    0.438153\n",
       "Name: sex, dtype: float64"
      ]
     },
     "execution_count": 67,
     "metadata": {},
     "output_type": "execute_result"
    }
   ],
   "source": [
    "# criando um dataset apenas de motoristas\n",
    "df_drivers1 = car_crashes[car_crashes['occRole']=='driver']\n",
    "\n",
    "# entendendo a distribução de sexo entre os motoristas\n",
    "df_drivers1['sex'].value_counts(normalize=True)"
   ]
  },
  {
   "cell_type": "markdown",
   "id": "48fd01db",
   "metadata": {},
   "source": [
    "56,18% dos motoristas são homens, 43,82% são mulheres"
   ]
  },
  {
   "cell_type": "code",
   "execution_count": 119,
   "id": "ccf680b5",
   "metadata": {},
   "outputs": [
    {
     "data": {
      "image/png": "[encoded data removed]",
      "text/plain": [
       "<Figure size 432x216 with 2 Axes>"
      ]
     },
     "metadata": {
      "needs_background": "light"
     },
     "output_type": "display_data"
    }
   ],
   "source": [
    "grid = sns.FacetGrid(df_drivers1, col='sex',hue='sex')\n",
    "\n",
    "grid.map(sns.histplot, 'dead', stat='percent')\n",
    "\n",
    "plt.suptitle('Porcentagem de mortes entre mulheres e homens motoristas \\n \\n', fontsize = 15)\n",
    "\n",
    "plt.subplots_adjust(top=0.85)\n",
    "\n",
    "plt.show()"
   ]
  },
  {
   "cell_type": "code",
   "execution_count": 15,
   "id": "bad4b45f",
   "metadata": {},
   "outputs": [
    {
     "data": {
      "text/plain": [
       "m    3820\n",
       "f    2979\n",
       "Name: sex, dtype: int64"
      ]
     },
     "execution_count": 15,
     "metadata": {},
     "output_type": "execute_result"
    }
   ],
   "source": [
    "# total de homens e mulheres entre os motoristas\n",
    "\n",
    "df_drivers1['sex'].value_counts()"
   ]
  },
  {
   "cell_type": "code",
   "execution_count": 120,
   "id": "b1659b0e",
   "metadata": {},
   "outputs": [
    {
     "data": {
      "text/plain": [
       "sex  dead \n",
       "f    alive    96.173212\n",
       "     dead      3.826788\n",
       "Name: dead, dtype: float64"
      ]
     },
     "execution_count": 120,
     "metadata": {},
     "output_type": "execute_result"
    }
   ],
   "source": [
    "#distribuição de morte entre motoristas mulheres \n",
    "\n",
    "df_drivers1[df_drivers1['sex']=='f'].groupby([\"sex\",'dead'])['dead'].count()/29.79"
   ]
  },
  {
   "cell_type": "code",
   "execution_count": 121,
   "id": "eea9d6b8",
   "metadata": {},
   "outputs": [
    {
     "data": {
      "text/plain": [
       "sex  dead \n",
       "m    alive    95.183246\n",
       "     dead      4.816754\n",
       "Name: dead, dtype: float64"
      ]
     },
     "execution_count": 121,
     "metadata": {},
     "output_type": "execute_result"
    }
   ],
   "source": [
    "#distribuição de morte entre motoristas homens\n",
    "df_drivers1[df_drivers1['sex']=='m'].groupby([\"sex\",'dead'])['dead'].count()/38.20"
   ]
  },
  {
   "cell_type": "markdown",
   "id": "a8b16b02",
   "metadata": {},
   "source": [
    "3,82% das motoristas acidentadas mulheres morreram.\n",
    "\n",
    "4,81% dos motoristas acidentados homens morreram.\n",
    "\n",
    "\n",
    "Motoristas mulheres morrem proporcionalmente menos do que motoristas homens."
   ]
  },
  {
   "cell_type": "code",
   "execution_count": 128,
   "id": "f75016cd",
   "metadata": {},
   "outputs": [
    {
     "data": {
      "image/png": "[encoded data removed]",
      "text/plain": [
       "<Figure size 432x216 with 2 Axes>"
      ]
     },
     "metadata": {
      "needs_background": "light"
     },
     "output_type": "display_data"
    }
   ],
   "source": [
    "\n",
    "grid = sns.FacetGrid(df_drivers1, col='sex',hue='sex')\n",
    "\n",
    "grid.map(sns.histplot, 'ageGroup', stat='percent')\n",
    "\n",
    "plt.suptitle('Envolvimento de Homens x Mulheres em acidentes por faixa etária \\n \\n', fontsize = 15)\n",
    "\n",
    "plt.subplots_adjust(top=0.85)\n",
    "\n",
    "plt.show()\n"
   ]
  },
  {
   "cell_type": "code",
   "execution_count": 122,
   "id": "5b8cbbdd",
   "metadata": {},
   "outputs": [
    {
     "data": {
      "text/plain": [
       "sex  ageGroup\n",
       "f    <= 24       30.312185\n",
       "     25 - 39     31.554213\n",
       "     40 - 59     25.579053\n",
       "     >= 60       12.554549\n",
       "Name: ageGroup, dtype: float64"
      ]
     },
     "execution_count": 122,
     "metadata": {},
     "output_type": "execute_result"
    }
   ],
   "source": [
    "#distribuição de morte entre motoristas mulheres \n",
    "\n",
    "df_drivers1[df_drivers1['sex']=='f'].groupby([\"sex\",'ageGroup'])['ageGroup'].count()/29.79 "
   ]
  },
  {
   "cell_type": "code",
   "execution_count": 123,
   "id": "263cdc2e",
   "metadata": {},
   "outputs": [
    {
     "data": {
      "text/plain": [
       "sex  ageGroup\n",
       "m    <= 24       31.910995\n",
       "     25 - 39     32.408377\n",
       "     40 - 59     22.879581\n",
       "     >= 60       12.801047\n",
       "Name: ageGroup, dtype: float64"
      ]
     },
     "execution_count": 123,
     "metadata": {},
     "output_type": "execute_result"
    }
   ],
   "source": [
    "#distribuição de morte entre motoristas homens\n",
    "\n",
    "df_drivers1[df_drivers1['sex']=='m'].groupby([\"sex\",'ageGroup'])['ageGroup'].count()/38.20"
   ]
  },
  {
   "cell_type": "markdown",
   "id": "062ddaca",
   "metadata": {},
   "source": [
    "Para motoristas mulheres e homens, os acidentes ocorrem mais entre 25 e 39 anos.\n"
   ]
  },
  {
   "cell_type": "code",
   "execution_count": 131,
   "id": "1a6d4a89",
   "metadata": {},
   "outputs": [
    {
     "data": {
      "image/png": "[encoded data removed]",
      "text/plain": [
       "<Figure size 432x216 with 2 Axes>"
      ]
     },
     "metadata": {
      "needs_background": "light"
     },
     "output_type": "display_data"
    }
   ],
   "source": [
    "grid = sns.FacetGrid(df_drivers1, col='sex',hue='sex')\n",
    "\n",
    "grid.map(sns.histplot, 'seatbelt', stat='percent')\n",
    "\n",
    "plt.suptitle('Uso de cinto de segurança dos motoristas por sexo', fontsize = 15)\n",
    "\n",
    "plt.subplots_adjust(top=0.85)\n",
    "\n",
    "plt.show()"
   ]
  },
  {
   "cell_type": "code",
   "execution_count": 124,
   "id": "a57c2efa",
   "metadata": {},
   "outputs": [
    {
     "data": {
      "text/plain": [
       "sex  seatbelt\n",
       "f    belted      78.986237\n",
       "     none        21.013763\n",
       "Name: seatbelt, dtype: float64"
      ]
     },
     "execution_count": 124,
     "metadata": {},
     "output_type": "execute_result"
    }
   ],
   "source": [
    "# uso de cinto entre motoristas mulheres \n",
    "\n",
    "df_drivers1[df_drivers1['sex']=='f'].groupby([\"sex\",'seatbelt'])['seatbelt'].count()/29.79"
   ]
  },
  {
   "cell_type": "code",
   "execution_count": 125,
   "id": "165b91fa",
   "metadata": {},
   "outputs": [
    {
     "data": {
      "text/plain": [
       "sex  seatbelt\n",
       "m    belted      67.565445\n",
       "     none        32.434555\n",
       "Name: seatbelt, dtype: float64"
      ]
     },
     "execution_count": 125,
     "metadata": {},
     "output_type": "execute_result"
    }
   ],
   "source": [
    "#uso de cinto entre motoristas homens\n",
    "\n",
    "df_drivers1[df_drivers1['sex']=='m'].groupby([\"sex\",'seatbelt'])['seatbelt'].count()/38.20"
   ]
  },
  {
   "cell_type": "markdown",
   "id": "8aaea788",
   "metadata": {},
   "source": [
    "Motoristas mulheres usam mais cinto de segurança (78,98%) do que motoristas homens.\n"
   ]
  },
  {
   "cell_type": "code",
   "execution_count": 26,
   "id": "10fdde59",
   "metadata": {},
   "outputs": [
    {
     "name": "stdout",
     "output_type": "stream",
     "text": [
      "     dvcat speed\n",
      "0  1-9km/h     1\n",
      "1    10-24     2\n",
      "2    25-39     3\n",
      "3    40-54     4\n",
      "4      55+     5\n"
     ]
    }
   ],
   "source": [
    "# Avaliando a velocidade em que os motoristas dirigiam\n",
    "\n",
    "# melhorando a leitura da coluna 'dvcat':\n",
    "# criando um DataFrame para atribuição:\n",
    "dfApoio = pd.DataFrame({'dvcat': ['1-9km/h','10-24','25-39','40-54','55+'], \n",
    "                   'speed': ['1','2','3','4','5']})\n",
    "#df_drivers1['dvcat'].value_counts()\n",
    "print(dfApoio)"
   ]
  },
  {
   "cell_type": "code",
   "execution_count": 31,
   "id": "8e953af0",
   "metadata": {},
   "outputs": [
    {
     "data": {
      "text/html": [
       "<div>\n",
       "<style scoped>\n",
       "    .dataframe tbody tr th:only-of-type {\n",
       "        vertical-align: middle;\n",
       "    }\n",
       "\n",
       "    .dataframe tbody tr th {\n",
       "        vertical-align: top;\n",
       "    }\n",
       "\n",
       "    .dataframe thead th {\n",
       "        text-align: right;\n",
       "    }\n",
       "</style>\n",
       "<table border=\"1\" class=\"dataframe\">\n",
       "  <thead>\n",
       "    <tr style=\"text-align: right;\">\n",
       "      <th></th>\n",
       "      <th>dvcat</th>\n",
       "      <th>speed</th>\n",
       "    </tr>\n",
       "  </thead>\n",
       "  <tbody>\n",
       "    <tr>\n",
       "      <th>0</th>\n",
       "      <td>1-9km/h</td>\n",
       "      <td>1</td>\n",
       "    </tr>\n",
       "    <tr>\n",
       "      <th>1</th>\n",
       "      <td>10-24</td>\n",
       "      <td>2</td>\n",
       "    </tr>\n",
       "    <tr>\n",
       "      <th>2</th>\n",
       "      <td>25-39</td>\n",
       "      <td>3</td>\n",
       "    </tr>\n",
       "    <tr>\n",
       "      <th>3</th>\n",
       "      <td>40-54</td>\n",
       "      <td>4</td>\n",
       "    </tr>\n",
       "    <tr>\n",
       "      <th>4</th>\n",
       "      <td>55+</td>\n",
       "      <td>5</td>\n",
       "    </tr>\n",
       "  </tbody>\n",
       "</table>\n",
       "</div>"
      ],
      "text/plain": [
       "     dvcat speed\n",
       "0  1-9km/h     1\n",
       "1    10-24     2\n",
       "2    25-39     3\n",
       "3    40-54     4\n",
       "4      55+     5"
      ]
     },
     "execution_count": 31,
     "metadata": {},
     "output_type": "execute_result"
    }
   ],
   "source": [
    "dfApoio"
   ]
  },
  {
   "cell_type": "code",
   "execution_count": 27,
   "id": "2c724a51",
   "metadata": {},
   "outputs": [
    {
     "data": {
      "text/html": [
       "<div>\n",
       "<style scoped>\n",
       "    .dataframe tbody tr th:only-of-type {\n",
       "        vertical-align: middle;\n",
       "    }\n",
       "\n",
       "    .dataframe tbody tr th {\n",
       "        vertical-align: top;\n",
       "    }\n",
       "\n",
       "    .dataframe thead th {\n",
       "        text-align: right;\n",
       "    }\n",
       "</style>\n",
       "<table border=\"1\" class=\"dataframe\">\n",
       "  <thead>\n",
       "    <tr style=\"text-align: right;\">\n",
       "      <th></th>\n",
       "      <th>dvcat</th>\n",
       "      <th>weight</th>\n",
       "      <th>dead</th>\n",
       "      <th>airbag</th>\n",
       "      <th>seatbelt</th>\n",
       "      <th>frontal</th>\n",
       "      <th>sex</th>\n",
       "      <th>ageOFocc</th>\n",
       "      <th>yearacc</th>\n",
       "      <th>yearVeh</th>\n",
       "      <th>abcat</th>\n",
       "      <th>occRole</th>\n",
       "      <th>deploy</th>\n",
       "      <th>caseid</th>\n",
       "      <th>ageGroup</th>\n",
       "      <th>speed</th>\n",
       "    </tr>\n",
       "  </thead>\n",
       "  <tbody>\n",
       "    <tr>\n",
       "      <th>0</th>\n",
       "      <td>25-39</td>\n",
       "      <td>266.532</td>\n",
       "      <td>alive</td>\n",
       "      <td>none</td>\n",
       "      <td>none</td>\n",
       "      <td>1</td>\n",
       "      <td>f</td>\n",
       "      <td>28</td>\n",
       "      <td>2001</td>\n",
       "      <td>1991.0</td>\n",
       "      <td>unavail</td>\n",
       "      <td>driver</td>\n",
       "      <td>0</td>\n",
       "      <td>76:12:2</td>\n",
       "      <td>25 à 39</td>\n",
       "      <td>3</td>\n",
       "    </tr>\n",
       "    <tr>\n",
       "      <th>1</th>\n",
       "      <td>25-39</td>\n",
       "      <td>51.810</td>\n",
       "      <td>alive</td>\n",
       "      <td>airbag</td>\n",
       "      <td>belted</td>\n",
       "      <td>1</td>\n",
       "      <td>f</td>\n",
       "      <td>36</td>\n",
       "      <td>1999</td>\n",
       "      <td>1994.0</td>\n",
       "      <td>deploy</td>\n",
       "      <td>driver</td>\n",
       "      <td>1</td>\n",
       "      <td>78:53:2</td>\n",
       "      <td>25 à 39</td>\n",
       "      <td>3</td>\n",
       "    </tr>\n",
       "    <tr>\n",
       "      <th>2</th>\n",
       "      <td>25-39</td>\n",
       "      <td>232.832</td>\n",
       "      <td>alive</td>\n",
       "      <td>none</td>\n",
       "      <td>belted</td>\n",
       "      <td>0</td>\n",
       "      <td>f</td>\n",
       "      <td>38</td>\n",
       "      <td>2001</td>\n",
       "      <td>1990.0</td>\n",
       "      <td>unavail</td>\n",
       "      <td>driver</td>\n",
       "      <td>0</td>\n",
       "      <td>13:143:1</td>\n",
       "      <td>25 à 39</td>\n",
       "      <td>3</td>\n",
       "    </tr>\n",
       "    <tr>\n",
       "      <th>3</th>\n",
       "      <td>25-39</td>\n",
       "      <td>541.288</td>\n",
       "      <td>alive</td>\n",
       "      <td>airbag</td>\n",
       "      <td>belted</td>\n",
       "      <td>1</td>\n",
       "      <td>m</td>\n",
       "      <td>28</td>\n",
       "      <td>2002</td>\n",
       "      <td>1997.0</td>\n",
       "      <td>deploy</td>\n",
       "      <td>driver</td>\n",
       "      <td>1</td>\n",
       "      <td>12:2:1</td>\n",
       "      <td>25 à 39</td>\n",
       "      <td>3</td>\n",
       "    </tr>\n",
       "    <tr>\n",
       "      <th>4</th>\n",
       "      <td>25-39</td>\n",
       "      <td>509.489</td>\n",
       "      <td>alive</td>\n",
       "      <td>none</td>\n",
       "      <td>none</td>\n",
       "      <td>1</td>\n",
       "      <td>m</td>\n",
       "      <td>19</td>\n",
       "      <td>2002</td>\n",
       "      <td>1990.0</td>\n",
       "      <td>unavail</td>\n",
       "      <td>driver</td>\n",
       "      <td>0</td>\n",
       "      <td>74:107:2</td>\n",
       "      <td>até 24</td>\n",
       "      <td>3</td>\n",
       "    </tr>\n",
       "  </tbody>\n",
       "</table>\n",
       "</div>"
      ],
      "text/plain": [
       "   dvcat   weight   dead  airbag seatbelt  frontal sex  ageOFocc  yearacc  \\\n",
       "0  25-39  266.532  alive    none     none        1   f        28     2001   \n",
       "1  25-39   51.810  alive  airbag   belted        1   f        36     1999   \n",
       "2  25-39  232.832  alive    none   belted        0   f        38     2001   \n",
       "3  25-39  541.288  alive  airbag   belted        1   m        28     2002   \n",
       "4  25-39  509.489  alive    none     none        1   m        19     2002   \n",
       "\n",
       "   yearVeh    abcat occRole  deploy    caseid ageGroup speed  \n",
       "0   1991.0  unavail  driver       0   76:12:2  25 à 39     3  \n",
       "1   1994.0   deploy  driver       1   78:53:2  25 à 39     3  \n",
       "2   1990.0  unavail  driver       0  13:143:1  25 à 39     3  \n",
       "3   1997.0   deploy  driver       1    12:2:1  25 à 39     3  \n",
       "4   1990.0  unavail  driver       0  74:107:2   até 24     3  "
      ]
     },
     "execution_count": 27,
     "metadata": {},
     "output_type": "execute_result"
    }
   ],
   "source": [
    "# usando .merge a partir da chave 'dvcat':\n",
    "df_drivers2 = pd.merge(df_drivers1,dfApoio, on='dvcat') \n",
    "df_drivers2.head()"
   ]
  },
  {
   "cell_type": "code",
   "execution_count": 132,
   "id": "2124847e",
   "metadata": {},
   "outputs": [
    {
     "data": {
      "image/png": "[encoded data removed]",
      "text/plain": [
       "<Figure size 432x216 with 2 Axes>"
      ]
     },
     "metadata": {
      "needs_background": "light"
     },
     "output_type": "display_data"
    }
   ],
   "source": [
    "# comparando graficamente\n",
    "\n",
    "grid = sns.FacetGrid(df_drivers2, col='sex',hue='sex')\n",
    "\n",
    "grid.map(sns.histplot,'speed')\n",
    "\n",
    "plt.suptitle('Faixas de velocidade dos acidentados por sexo\\n', fontsize = 15)\n",
    "\n",
    "plt.subplots_adjust(top=0.85)\n",
    "\n",
    "plt.show()"
   ]
  },
  {
   "cell_type": "code",
   "execution_count": 126,
   "id": "6e7884bb",
   "metadata": {},
   "outputs": [
    {
     "data": {
      "text/plain": [
       "sex  speed\n",
       "f    1         2.416918\n",
       "     2        51.795905\n",
       "     3        30.748573\n",
       "     4        10.305472\n",
       "     5         4.733132\n",
       "Name: speed, dtype: float64"
      ]
     },
     "execution_count": 126,
     "metadata": {},
     "output_type": "execute_result"
    }
   ],
   "source": [
    "#distribuição de velocidade entre motoristas mulheres \n",
    "\n",
    "df_drivers2[df_drivers2['sex']=='f'].groupby([\"sex\",'speed'])['speed'].count()/29.79"
   ]
  },
  {
   "cell_type": "code",
   "execution_count": 127,
   "id": "2209a52b",
   "metadata": {},
   "outputs": [
    {
     "data": {
      "text/plain": [
       "sex  speed\n",
       "m    1         2.434555\n",
       "     2        46.649215\n",
       "     3        31.099476\n",
       "     4        13.062827\n",
       "     5         6.753927\n",
       "Name: speed, dtype: float64"
      ]
     },
     "execution_count": 127,
     "metadata": {},
     "output_type": "execute_result"
    }
   ],
   "source": [
    "#distribuição de velocidade entre motoristas homens \n",
    "\n",
    "df_drivers2[df_drivers2['sex']=='m'].groupby([\"sex\",'speed'])['speed'].count()/38.20"
   ]
  },
  {
   "cell_type": "markdown",
   "id": "2028df16",
   "metadata": {},
   "source": [
    "Proporcionalmente, homens e mulheres tem velocidades muito semelhante entre os acidentes, porém homens estão mais presentes  em velocidades maiores.\n",
    "\n",
    "## Conclusão: Mulheres apresentam mais sinais de prudência no trânsito, principalmente pelo uso do cinto e velocidade, apesar da pouca diferença.\n",
    "\n"
   ]
  },
  {
   "cell_type": "markdown",
   "id": "751962b1",
   "metadata": {},
   "source": [
    "## HIPÓTESE 2: Cinto de segurança ou Airbag reduzem chances de acidentes fatais"
   ]
  },
  {
   "cell_type": "code",
   "execution_count": 33,
   "id": "8f58eb9f",
   "metadata": {},
   "outputs": [
    {
     "data": {
      "text/plain": [
       "alive    8249\n",
       "dead      403\n",
       "Name: dead, dtype: int64"
      ]
     },
     "execution_count": 33,
     "metadata": {},
     "output_type": "execute_result"
    }
   ],
   "source": [
    "car_crashes['dead'].value_counts()"
   ]
  },
  {
   "cell_type": "code",
   "execution_count": 34,
   "id": "2274a6f5",
   "metadata": {},
   "outputs": [
    {
     "data": {
      "text/plain": [
       "airbag    4695\n",
       "none      3957\n",
       "Name: airbag, dtype: int64"
      ]
     },
     "execution_count": 34,
     "metadata": {},
     "output_type": "execute_result"
    }
   ],
   "source": [
    "car_crashes['airbag'].value_counts()"
   ]
  },
  {
   "cell_type": "code",
   "execution_count": 35,
   "id": "2285ac83",
   "metadata": {},
   "outputs": [
    {
     "data": {
      "text/plain": [
       "belted    6114\n",
       "none      2538\n",
       "Name: seatbelt, dtype: int64"
      ]
     },
     "execution_count": 35,
     "metadata": {},
     "output_type": "execute_result"
    }
   ],
   "source": [
    "car_crashes['seatbelt'].value_counts()"
   ]
  },
  {
   "cell_type": "code",
   "execution_count": 51,
   "id": "01e19f21",
   "metadata": {},
   "outputs": [
    {
     "data": {
      "image/png": "[encoded data removed]",
      "text/plain": [
       "<Figure size 360x360 with 1 Axes>"
      ]
     },
     "metadata": {
      "needs_background": "light"
     },
     "output_type": "display_data"
    }
   ],
   "source": [
    "sns.catplot(x=\"seatbelt\", kind=\"count\", data=car_crashes)\n",
    "\n",
    "plt.title('Quantidade de pessoas utilizando cinto de segurança', fontsize = 16)\n",
    "\n",
    "plt.xlabel('Cinto de Segurança', fontsize=15)\n",
    "\n",
    "plt.ylabel('Quantidade', fontsize=15)\n",
    "\n",
    "plt.grid()\n",
    "\n",
    "plt.show()"
   ]
  },
  {
   "cell_type": "code",
   "execution_count": 52,
   "id": "108f2aa4",
   "metadata": {},
   "outputs": [
    {
     "data": {
      "image/png": "[encoded data removed]",
      "text/plain": [
       "<Figure size 421x360 with 1 Axes>"
      ]
     },
     "metadata": {
      "needs_background": "light"
     },
     "output_type": "display_data"
    }
   ],
   "source": [
    "sns.catplot(y=\"seatbelt\", hue=\"dead\", kind=\"count\",\n",
    "            palette=\"pastel\", edgecolor=\".6\",\n",
    "            data=car_crashes)\n",
    "\n",
    "plt.title('Quantidade de pessoas utilizando cinto de segurança \\n em acidentes fatais ou não', fontsize = 16)\n",
    "\n",
    "plt.xlabel('Quantidade', fontsize=15)\n",
    "\n",
    "plt.ylabel('Cinto de Segurança', fontsize=15)\n",
    "\n",
    "plt.grid()\n",
    "\n",
    "plt.show()"
   ]
  },
  {
   "cell_type": "code",
   "execution_count": 135,
   "id": "ec3b8cf3",
   "metadata": {},
   "outputs": [
    {
     "data": {
      "image/png": "[encoded data removed]",
      "text/plain": [
       "<Figure size 421x360 with 1 Axes>"
      ]
     },
     "metadata": {
      "needs_background": "light"
     },
     "output_type": "display_data"
    }
   ],
   "source": [
    "sns.catplot(y=\"airbag\", hue=\"dead\", kind=\"count\",\n",
    "            palette=\"pastel\", edgecolor=\".6\",\n",
    "            data=car_crashes)\n",
    "\n",
    "plt.title('Quantidade de pessoas que possuem airbag \\n em acidentes fatais ou não', fontsize = 16)\n",
    "\n",
    "plt.xlabel('Quantidade', fontsize=15)\n",
    "\n",
    "plt.ylabel('Airbag', fontsize=15)\n",
    "\n",
    "plt.grid()\n",
    "\n",
    "plt.show()"
   ]
  },
  {
   "cell_type": "code",
   "execution_count": 40,
   "id": "1ac7748e",
   "metadata": {},
   "outputs": [
    {
     "data": {
      "text/html": [
       "<div>\n",
       "<style scoped>\n",
       "    .dataframe tbody tr th:only-of-type {\n",
       "        vertical-align: middle;\n",
       "    }\n",
       "\n",
       "    .dataframe tbody tr th {\n",
       "        vertical-align: top;\n",
       "    }\n",
       "\n",
       "    .dataframe thead th {\n",
       "        text-align: right;\n",
       "    }\n",
       "</style>\n",
       "<table border=\"1\" class=\"dataframe\">\n",
       "  <thead>\n",
       "    <tr style=\"text-align: right;\">\n",
       "      <th></th>\n",
       "      <th></th>\n",
       "      <th>count</th>\n",
       "    </tr>\n",
       "    <tr>\n",
       "      <th>dead</th>\n",
       "      <th>seatbelt</th>\n",
       "      <th></th>\n",
       "    </tr>\n",
       "  </thead>\n",
       "  <tbody>\n",
       "    <tr>\n",
       "      <th rowspan=\"2\" valign=\"top\">alive</th>\n",
       "      <th>belted</th>\n",
       "      <td>5943</td>\n",
       "    </tr>\n",
       "    <tr>\n",
       "      <th>none</th>\n",
       "      <td>2306</td>\n",
       "    </tr>\n",
       "    <tr>\n",
       "      <th rowspan=\"2\" valign=\"top\">dead</th>\n",
       "      <th>belted</th>\n",
       "      <td>171</td>\n",
       "    </tr>\n",
       "    <tr>\n",
       "      <th>none</th>\n",
       "      <td>232</td>\n",
       "    </tr>\n",
       "  </tbody>\n",
       "</table>\n",
       "</div>"
      ],
      "text/plain": [
       "                count\n",
       "dead  seatbelt       \n",
       "alive belted     5943\n",
       "      none       2306\n",
       "dead  belted      171\n",
       "      none        232"
      ]
     },
     "execution_count": 40,
     "metadata": {},
     "output_type": "execute_result"
    }
   ],
   "source": [
    "car_crashes.groupby([\"dead\", \"seatbelt\"])[\"seatbelt\"].agg([\"count\"])"
   ]
  },
  {
   "cell_type": "code",
   "execution_count": 39,
   "id": "c75e34d3",
   "metadata": {},
   "outputs": [
    {
     "data": {
      "text/html": [
       "<div>\n",
       "<style scoped>\n",
       "    .dataframe tbody tr th:only-of-type {\n",
       "        vertical-align: middle;\n",
       "    }\n",
       "\n",
       "    .dataframe tbody tr th {\n",
       "        vertical-align: top;\n",
       "    }\n",
       "\n",
       "    .dataframe thead th {\n",
       "        text-align: right;\n",
       "    }\n",
       "</style>\n",
       "<table border=\"1\" class=\"dataframe\">\n",
       "  <thead>\n",
       "    <tr style=\"text-align: right;\">\n",
       "      <th></th>\n",
       "      <th></th>\n",
       "      <th>count</th>\n",
       "    </tr>\n",
       "    <tr>\n",
       "      <th>dead</th>\n",
       "      <th>airbag</th>\n",
       "      <th></th>\n",
       "    </tr>\n",
       "  </thead>\n",
       "  <tbody>\n",
       "    <tr>\n",
       "      <th rowspan=\"2\" valign=\"top\">alive</th>\n",
       "      <th>airbag</th>\n",
       "      <td>4531</td>\n",
       "    </tr>\n",
       "    <tr>\n",
       "      <th>none</th>\n",
       "      <td>3718</td>\n",
       "    </tr>\n",
       "    <tr>\n",
       "      <th rowspan=\"2\" valign=\"top\">dead</th>\n",
       "      <th>airbag</th>\n",
       "      <td>164</td>\n",
       "    </tr>\n",
       "    <tr>\n",
       "      <th>none</th>\n",
       "      <td>239</td>\n",
       "    </tr>\n",
       "  </tbody>\n",
       "</table>\n",
       "</div>"
      ],
      "text/plain": [
       "              count\n",
       "dead  airbag       \n",
       "alive airbag   4531\n",
       "      none     3718\n",
       "dead  airbag    164\n",
       "      none      239"
      ]
     },
     "execution_count": 39,
     "metadata": {},
     "output_type": "execute_result"
    }
   ],
   "source": [
    "car_crashes.groupby([\"dead\", \"airbag\"])[\"airbag\"].agg([\"count\"])"
   ]
  },
  {
   "cell_type": "code",
   "execution_count": 41,
   "id": "f8470e92",
   "metadata": {},
   "outputs": [
    {
     "data": {
      "text/html": [
       "<div>\n",
       "<style scoped>\n",
       "    .dataframe tbody tr th:only-of-type {\n",
       "        vertical-align: middle;\n",
       "    }\n",
       "\n",
       "    .dataframe tbody tr th {\n",
       "        vertical-align: top;\n",
       "    }\n",
       "\n",
       "    .dataframe thead th {\n",
       "        text-align: right;\n",
       "    }\n",
       "</style>\n",
       "<table border=\"1\" class=\"dataframe\">\n",
       "  <thead>\n",
       "    <tr style=\"text-align: right;\">\n",
       "      <th></th>\n",
       "      <th></th>\n",
       "      <th></th>\n",
       "      <th>count</th>\n",
       "    </tr>\n",
       "    <tr>\n",
       "      <th>seatbelt</th>\n",
       "      <th>airbag</th>\n",
       "      <th>dead</th>\n",
       "      <th></th>\n",
       "    </tr>\n",
       "  </thead>\n",
       "  <tbody>\n",
       "    <tr>\n",
       "      <th rowspan=\"4\" valign=\"top\">belted</th>\n",
       "      <th rowspan=\"2\" valign=\"top\">airbag</th>\n",
       "      <th>alive</th>\n",
       "      <td>3573</td>\n",
       "    </tr>\n",
       "    <tr>\n",
       "      <th>dead</th>\n",
       "      <td>68</td>\n",
       "    </tr>\n",
       "    <tr>\n",
       "      <th rowspan=\"2\" valign=\"top\">none</th>\n",
       "      <th>alive</th>\n",
       "      <td>2370</td>\n",
       "    </tr>\n",
       "    <tr>\n",
       "      <th>dead</th>\n",
       "      <td>103</td>\n",
       "    </tr>\n",
       "    <tr>\n",
       "      <th rowspan=\"4\" valign=\"top\">none</th>\n",
       "      <th rowspan=\"2\" valign=\"top\">airbag</th>\n",
       "      <th>alive</th>\n",
       "      <td>958</td>\n",
       "    </tr>\n",
       "    <tr>\n",
       "      <th>dead</th>\n",
       "      <td>96</td>\n",
       "    </tr>\n",
       "    <tr>\n",
       "      <th rowspan=\"2\" valign=\"top\">none</th>\n",
       "      <th>alive</th>\n",
       "      <td>1348</td>\n",
       "    </tr>\n",
       "    <tr>\n",
       "      <th>dead</th>\n",
       "      <td>136</td>\n",
       "    </tr>\n",
       "  </tbody>\n",
       "</table>\n",
       "</div>"
      ],
      "text/plain": [
       "                       count\n",
       "seatbelt airbag dead        \n",
       "belted   airbag alive   3573\n",
       "                dead      68\n",
       "         none   alive   2370\n",
       "                dead     103\n",
       "none     airbag alive    958\n",
       "                dead      96\n",
       "         none   alive   1348\n",
       "                dead     136"
      ]
     },
     "execution_count": 41,
     "metadata": {},
     "output_type": "execute_result"
    }
   ],
   "source": [
    "car_crashes.groupby([\"seatbelt\", \"airbag\", \"dead\"])[\"dead\"].agg([\"count\"])"
   ]
  },
  {
   "cell_type": "markdown",
   "id": "42b84be1",
   "metadata": {},
   "source": [
    "## Conclusão: Cintos de segurança e Airbags diminuem riscos de acidentes fatais."
   ]
  },
  {
   "cell_type": "markdown",
   "id": "7d77a491",
   "metadata": {},
   "source": [
    "## HIPÓTESE 3: Pessoas mais novas são mais imprudentes\n"
   ]
  },
  {
   "cell_type": "code",
   "execution_count": 98,
   "id": "71399596",
   "metadata": {},
   "outputs": [
    {
     "data": {
      "image/png": "[encoded data removed]",
      "text/plain": [
       "<Figure size 427.625x360 with 1 Axes>"
      ]
     },
     "metadata": {
      "needs_background": "light"
     },
     "output_type": "display_data"
    }
   ],
   "source": [
    "sns.catplot(y=\"ageGroup\", hue=\"seatbelt\", kind=\"count\",\n",
    "            palette=\"pastel\", edgecolor=\".6\",\n",
    "            data=car_crashes)\n",
    "\n",
    "plt.title('Uso de cinto de segurança por faixa etária\\n', fontsize = 15)\n",
    "\n",
    "plt.xlabel('Quantidade', fontsize=15)\n",
    "\n",
    "plt.ylabel('Faixa Etária', fontsize=15)\n",
    "\n",
    "plt.grid()\n",
    "\n",
    "plt.show()"
   ]
  },
  {
   "cell_type": "code",
   "execution_count": 42,
   "id": "9e463882",
   "metadata": {},
   "outputs": [
    {
     "data": {
      "image/png": "[encoded data removed]",
      "text/plain": [
       "<Figure size 1152x576 with 1 Axes>"
      ]
     },
     "metadata": {
      "needs_background": "light"
     },
     "output_type": "display_data"
    }
   ],
   "source": [
    "plt.figure(figsize = (16, 8)) ## Tamanho da figura em polegadas\n",
    "\n",
    "# Gráfico de dispersão\n",
    "sns.scatterplot(data = car_crashes, x='ageOFocc', y='dvcat')\n",
    "\n",
    "# Coloca o titulo\n",
    "plt.title('Idade pela Velocidade', fontsize = 25)\n",
    "\n",
    "# Titulo para eixo X\n",
    "plt.xlabel('Idade', fontsize=15)\n",
    "\n",
    "# Titulo para eixo Y\n",
    "plt.ylabel('Velocidade', fontsize=15)\n",
    "\n",
    "# Tamanho da fonte da grade X\n",
    "plt.xticks(fontsize = 12)\n",
    "\n",
    "# Tamanho da fonte da grade Y\n",
    "plt.yticks(fontsize = 12)\n",
    "\n",
    "# Colocando Grid no Gráfico\n",
    "plt.grid()\n",
    "\n",
    "# Mostra o nosso Gráfico\n",
    "plt.show()"
   ]
  },
  {
   "cell_type": "code",
   "execution_count": 43,
   "id": "8c5e46d7",
   "metadata": {},
   "outputs": [
    {
     "data": {
      "text/html": [
       "<div>\n",
       "<style scoped>\n",
       "    .dataframe tbody tr th:only-of-type {\n",
       "        vertical-align: middle;\n",
       "    }\n",
       "\n",
       "    .dataframe tbody tr th {\n",
       "        vertical-align: top;\n",
       "    }\n",
       "\n",
       "    .dataframe thead th {\n",
       "        text-align: right;\n",
       "    }\n",
       "</style>\n",
       "<table border=\"1\" class=\"dataframe\">\n",
       "  <thead>\n",
       "    <tr style=\"text-align: right;\">\n",
       "      <th></th>\n",
       "      <th>mean</th>\n",
       "    </tr>\n",
       "    <tr>\n",
       "      <th>dvcat</th>\n",
       "      <th></th>\n",
       "    </tr>\n",
       "  </thead>\n",
       "  <tbody>\n",
       "    <tr>\n",
       "      <th>1-9km/h</th>\n",
       "      <td>36.705607</td>\n",
       "    </tr>\n",
       "    <tr>\n",
       "      <th>10-24</th>\n",
       "      <td>37.941708</td>\n",
       "    </tr>\n",
       "    <tr>\n",
       "      <th>25-39</th>\n",
       "      <td>37.236697</td>\n",
       "    </tr>\n",
       "    <tr>\n",
       "      <th>40-54</th>\n",
       "      <td>35.387512</td>\n",
       "    </tr>\n",
       "    <tr>\n",
       "      <th>55+</th>\n",
       "      <td>34.528942</td>\n",
       "    </tr>\n",
       "  </tbody>\n",
       "</table>\n",
       "</div>"
      ],
      "text/plain": [
       "              mean\n",
       "dvcat             \n",
       "1-9km/h  36.705607\n",
       "10-24    37.941708\n",
       "25-39    37.236697\n",
       "40-54    35.387512\n",
       "55+      34.528942"
      ]
     },
     "execution_count": 43,
     "metadata": {},
     "output_type": "execute_result"
    }
   ],
   "source": [
    "car_crashes.groupby(['dvcat'])['ageOFocc'].agg([\"mean\"])"
   ]
  },
  {
   "cell_type": "code",
   "execution_count": 101,
   "id": "6f302ba5",
   "metadata": {},
   "outputs": [
    {
     "data": {
      "image/png": "[encoded data removed]",
      "text/plain": [
       "<Figure size 432x288 with 1 Axes>"
      ]
     },
     "metadata": {
      "needs_background": "light"
     },
     "output_type": "display_data"
    }
   ],
   "source": [
    "sns.countplot(data = car_crashes, x='ageGroup')\n",
    "\n",
    "plt.title('Envolvimento por idade em acidentes', fontsize = 15)\n",
    "\n",
    "plt.xlabel('Faixa Etária', fontsize=15)\n",
    "\n",
    "plt.ylabel('Quantidade', fontsize=15)\n",
    "\n",
    "plt.show()"
   ]
  },
  {
   "cell_type": "code",
   "execution_count": 103,
   "id": "3173ba1b",
   "metadata": {},
   "outputs": [
    {
     "data": {
      "image/png": "[encoded data removed]",
      "text/plain": [
       "<Figure size 432x288 with 1 Axes>"
      ]
     },
     "metadata": {
      "needs_background": "light"
     },
     "output_type": "display_data"
    }
   ],
   "source": [
    "sns.countplot(data = df_drivers1, x='ageGroup')\n",
    "\n",
    "plt.title('Envolvimento por idade em motoristas acidentados', fontsize = 15)\n",
    "\n",
    "plt.xlabel('Faixa Etária', fontsize=15)\n",
    "\n",
    "plt.ylabel('Quantidade', fontsize=15)\n",
    "\n",
    "plt.show()"
   ]
  },
  {
   "cell_type": "markdown",
   "id": "27a8575f",
   "metadata": {},
   "source": [
    "## Conclusão: Pessoas mais velhas são mais prudentes, tanto pelo envolvimento, quanto pelo uso de cinto de segurança."
   ]
  },
  {
   "cell_type": "markdown",
   "id": "d0da4f6f",
   "metadata": {},
   "source": [
    "## HIPÓTESE 4: Altas velocidades causam mais acidentes"
   ]
  },
  {
   "cell_type": "code",
   "execution_count": 137,
   "id": "d48a7dbf",
   "metadata": {},
   "outputs": [
    {
     "data": {
      "image/png": "[encoded data removed]",
      "text/plain": [
       "<Figure size 1152x576 with 1 Axes>"
      ]
     },
     "metadata": {
      "needs_background": "light"
     },
     "output_type": "display_data"
    }
   ],
   "source": [
    "plt.figure(figsize = (16, 8)) ## Tamanho da figura em polegadas\n",
    "\n",
    "# Gráfico de dispersão\n",
    "sns.countplot(data=car_crashes, x='dvcat', hue='dead')\n",
    "\n",
    "# Coloca o titulo\n",
    "plt.title('Velocidade vs Sobrevivência', fontsize = 25)\n",
    "\n",
    "# Titulo para eixo X\n",
    "plt.xlabel('Velocidade', fontsize=15)\n",
    "\n",
    "# Titulo para eixo Y\n",
    "plt.ylabel('Sobrevivência', fontsize=15)\n",
    "\n",
    "# Tamanho da fonte da grade X\n",
    "plt.xticks(fontsize = 12)\n",
    "\n",
    "# Tamanho da fonte da grade Y\n",
    "plt.yticks(fontsize = 12)\n",
    "\n",
    "# Colocando Grid no Gráfico\n",
    "plt.grid()\n",
    "\n",
    "# Mostra o nosso Gráfico\n",
    "plt.show()"
   ]
  },
  {
   "cell_type": "markdown",
   "id": "91ae3953",
   "metadata": {},
   "source": [
    "## Conclusão: Nessa base de dados os acidentes ocorrem em sua maioria com velocidades baixas ou médias, porém com o aumento da velocidade, a chance de morte é maior."
   ]
  }
 ],
 "metadata": {
  "kernelspec": {
   "display_name": "Python 3 (ipykernel)",
   "language": "python",
   "name": "python3"
  },
  "language_info": {
   "codemirror_mode": {
    "name": "ipython",
    "version": 3
   },
   "file_extension": ".py",
   "mimetype": "text/x-python",
   "name": "python",
   "nbconvert_exporter": "python",
   "pygments_lexer": "ipython3",
   "version": "3.9.7"
  }
 },
 "nbformat": 4,
 "nbformat_minor": 5
}
